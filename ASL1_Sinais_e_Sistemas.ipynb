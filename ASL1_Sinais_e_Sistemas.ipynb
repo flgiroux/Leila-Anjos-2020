{
  "cells": [
    {
      "cell_type": "markdown",
      "metadata": {
        "id": "view-in-github",
        "colab_type": "text"
      },
      "source": [
        "<a href=\"https://colab.research.google.com/github/leilaneanjos/Analise_de_Sistemas_Lineares/blob/main/ASL1_Sinais_e_Sistemas.ipynb\" target=\"_parent\"><img src=\"https://colab.research.google.com/assets/colab-badge.svg\" alt=\"Open In Colab\"/></a>"
      ]
    },
    {
      "cell_type": "markdown",
      "source": [
        "# **Analise de Sistemas Lineares**\n",
        "\n",
        "# 1 - Sinais e Sistemas \n",
        "\n",
        "Tendo conhecimento sobre o assunto de sinais e sistemas, sabemos que as função fundamentais como o degrau, impulso e exponencial são a base para a representação de outros sinais. Com o intuito de demonstrar essas funções aplicadas a linguagem Python veremos:\n",
        "\n",
        "- Como determinar cada sinal; \n",
        "- Aplicações de operações úteis com sinais como deslocamento, escalonamento e inversão; \n",
        "- Como realizar a plotagem.\n"
      ],
      "metadata": {
        "id": "MGlGGCS-GViC"
      }
    },
    {
      "cell_type": "markdown",
      "metadata": {
        "id": "FlXGQ6Fwtu9v"
      },
      "source": [
        "# Biblioteca\n",
        "Para podermos realizar qualquer uma das aplicações pontuadas, primeiramente teremos que definir a biblioteca que será utilizada. No caso se fará uso da biblioteca `sympy`, sendo esta uma biblioteca para símbolos matemáticos. Uma fonte importante para aprender `sympy` é na sua [página de documentação](https://docs.sympy.org/latest/index.html)."
      ]
    },
    {
      "cell_type": "code",
      "execution_count": 14,
      "metadata": {
        "id": "l3lQwxCYxN4o"
      },
      "outputs": [],
      "source": [
        "import sympy as sp "
      ]
    },
    {
      "cell_type": "markdown",
      "metadata": {
        "id": "fcg9yfje0_4a"
      },
      "source": [
        "Após definirmos a biblioteca, precisamos agora determinar a váriavel que será utilizada no decorrer dos códigos, para isso faremos uso da função `sp.symbols()`."
      ]
    },
    {
      "cell_type": "code",
      "execution_count": 15,
      "metadata": {
        "id": "1LXodeiL11GF"
      },
      "outputs": [],
      "source": [
        "t = sp.symbols('t', real=True)"
      ]
    },
    {
      "cell_type": "markdown",
      "metadata": {
        "id": "B8v8oErqx26_"
      },
      "source": [
        "Agora sim podemos determinar os sinais, vale ressaltar que a própria biblioteca `sympy` já tem por definida a função degrau e impulso unitário. Para degrau utilizase uma função da biblioteca chamada `sp.Heaviside()` já para o impulso unitário se faz uso da função `sp.DiracDelta()` ."
      ]
    },
    {
      "cell_type": "markdown",
      "metadata": {
        "id": "d6fQcp1S6wlX"
      },
      "source": [
        "# **Sinal Degral Unitário $u(t)$:** \n",
        "\n",
        "A biblioteca `sympy` já tem por definida o sinal degrau unitário sendo ele indentificado pela função `sp.Heaviside()` e simbolizado como $\\theta (t)$."
      ]
    },
    {
      "cell_type": "code",
      "execution_count": 16,
      "metadata": {
        "id": "PRnWlZj8zskk",
        "colab": {
          "base_uri": "https://localhost:8080/",
          "height": 39
        },
        "outputId": "cb5f586c-30ee-49dd-b5b6-b93055a44fc6"
      },
      "outputs": [
        {
          "output_type": "execute_result",
          "data": {
            "text/plain": [
              "Heaviside(t)"
            ],
            "text/latex": "$\\displaystyle \\theta\\left(t\\right)$"
          },
          "metadata": {},
          "execution_count": 16
        }
      ],
      "source": [
        "u = sp.Heaviside(t)\n",
        "u"
      ]
    },
    {
      "cell_type": "markdown",
      "metadata": {
        "id": "4JjKYZxp_j6o"
      },
      "source": [
        "Para plotar o gráfico desse sinal aplicamos a função `sp.plot()`."
      ]
    },
    {
      "cell_type": "code",
      "execution_count": null,
      "metadata": {
        "id": "B6sWKOC-B7_6"
      },
      "outputs": [],
      "source": [
        "p = sp.plot(u)\n",
        "p"
      ]
    },
    {
      "cell_type": "markdown",
      "metadata": {
        "id": "XME04QvevK7y"
      },
      "source": [
        "Vale resaltar que dentro do argumento dessa função, após definirmos o sinal que desejamos fazer a plotagem, existe algumas configurações que podem ser úteis caso necessite realizar determinadas mudanças no gráfico, como por exemplo:\n",
        "- `xlabel`: permite o programador nomear a coordenada x (abscissa);\n",
        "- `ylabel`: permite o programador nomear a coordenada y (ordenada);\n",
        "- `title` : permite o programador nomear um título para o seu gráfico;\n",
        "- `xlim`  : permite o programador determinar os limites da função em x; \n",
        "- `size()`  : permite ao programador definir as dimensõe do grafico (largura, altura)."
      ]
    },
    {
      "cell_type": "code",
      "execution_count": null,
      "metadata": {
        "id": "QvGp28tdv1UK"
      },
      "outputs": [],
      "source": [
        "p = sp.plot(u, ylabel = 'u(t)', title = 'Sinal u(t)')\n",
        "p"
      ]
    },
    {
      "cell_type": "markdown",
      "metadata": {
        "id": "m79RO_QtFDan"
      },
      "source": [
        "- Operações úteis:\n",
        "\n",
        "Deslocamento temporal:"
      ]
    },
    {
      "cell_type": "code",
      "execution_count": null,
      "metadata": {
        "id": "2-I7YUEDFe28"
      },
      "outputs": [],
      "source": [
        "# Deslocamento para a direita (Atraso) \n",
        "x1= sp.Heaviside(t-2)\n",
        "p1 = sp.plot(x1, (t, -1, 3.5), title = 'Atraso no tempo', ylim=(0, 1.3), ylabel= 'x1(t)')\n",
        "p1\n",
        "\n",
        "# Deslocamento para a esquerda (Adiantado) \n",
        "x2= sp.Heaviside(t+2)\n",
        "p2= sp.plot(x2, (t, -4.1, 1), title ='Adiantamento no tempo', ylim=(0, 1.3), ylabel='x2(t)')\n",
        "p2"
      ]
    },
    {
      "cell_type": "markdown",
      "metadata": {
        "id": "05GETfB-HVwl"
      },
      "source": [
        "Escalamento temporal:\n",
        "\n",
        "Tomamos como exemplo o sinal:\n",
        "$$ x{\\tiny 1} (t) = 2u(t)-u(t-1)-2u(t-2)+u(t-3)$$\n",
        "\n",
        "Definindo o sinal e plotando o gráfico em `sympy`, temos:\n",
        "\n"
      ]
    },
    {
      "cell_type": "code",
      "execution_count": null,
      "metadata": {
        "id": "scVOTcBCJgQR"
      },
      "outputs": [],
      "source": [
        "x1= 2*sp.Heaviside(t)-sp.Heaviside(t-1)-2*sp.Heaviside(t-2)+sp.Heaviside(t-3)\n",
        "p1 = sp.plot(x1,xlabel = 't', ylabel = 'x(t)', title = 'Sinal x(t)', xlim = (-1, 4), size = (7, 4))\n",
        "p1"
      ]
    },
    {
      "cell_type": "markdown",
      "metadata": {
        "id": "XrxmT_R9yf8L"
      },
      "source": [
        "Se faz necessário que neste sinal ocorra um deslocamento a direita de 1 segundo e uma compressão de fator 2 ,ou seja, $x{\\tiny 2}(2t-1)$. Para resolver esse problema se faz uso de artifíos matemáticos básicos. Mas como desejamos fazer com que o computador faça todo o trabalho e no final só nos entregue o resultado que desejamos, podemos utilizar das muitas ferramentas que a biblioteca `sympy` nos fornece.\n",
        "No caso a ferramenta a ser utiliza é o `lambda`, tendo ela como objetivo criar funções.\n",
        "\n",
        "Para melhor entendimento vamos fazer a seguinte analíse. Quando não utilizamos o `lambda`, $x{\\tiny 2}$ é só um comando de atribuição, mas quando adicionamos o `lambda`na expressão, $x{\\tiny 2}$ passa a ser uma função que recebe valor.No caso o valor que  $x{\\tiny 2}$ vai receber é $ 2t-1$.\n"
      ]
    },
    {
      "cell_type": "code",
      "execution_count": null,
      "metadata": {
        "id": "Vl2PdBgUxPes"
      },
      "outputs": [],
      "source": [
        "x2 = lambda t: 2*sp.Heaviside(t)-sp.Heaviside(t-1)-2*sp.Heaviside(t-2)+sp.Heaviside(t-3)\n",
        "p1 = sp.plot(x2(2*t-1),xlabel = 't', ylabel = 'x(t)', title = 'Sinal x(t)', xlim = (-1, 4), size = (7, 5))\n",
        "p1"
      ]
    },
    {
      "cell_type": "markdown",
      "metadata": {
        "id": "1dZQl6CXIKQC"
      },
      "source": [
        "Reversão temporal:\n",
        "Quando se faz necessário somente reverter a função"
      ]
    },
    {
      "cell_type": "code",
      "execution_count": null,
      "metadata": {
        "id": "kstI6L7gHaPZ"
      },
      "outputs": [],
      "source": [
        "p1 = sp.plot(x2(-t),xlabel = 't', ylabel = 'x1(t)', title = 'Sinal x1(t) Revertido', xlim =(1, -4),size = (7, 5))\n",
        "p1\n",
        "\n",
        "p2 = sp.plot(x2(-2*t-1),xlabel = 't', ylabel = 'x2(t)', title = 'Sinal x2(t) Revertido', xlim = (1, -4), size = (7, 5))\n",
        "p2"
      ]
    },
    {
      "cell_type": "markdown",
      "metadata": {
        "id": "P1NvP6owKHA3"
      },
      "source": [
        "# **Sinal impulso unitário $\\delta(t)$:**\n",
        "\n",
        "Para o impulso unitário a biblioteca também já tem uma função definida denominada de `sp.DiracDelta()`:"
      ]
    },
    {
      "cell_type": "code",
      "execution_count": 11,
      "metadata": {
        "id": "2xtvxtBFKy0M",
        "colab": {
          "base_uri": "https://localhost:8080/",
          "height": 39
        },
        "outputId": "ac79aaa6-ac47-4b33-8543-afa7dada3e56"
      },
      "outputs": [
        {
          "output_type": "execute_result",
          "data": {
            "text/plain": [
              "DiracDelta(t)"
            ],
            "text/latex": "$\\displaystyle \\delta\\left(t\\right)$"
          },
          "metadata": {},
          "execution_count": 11
        }
      ],
      "source": [
        "d = sp.DiracDelta(t)\n",
        "d"
      ]
    },
    {
      "cell_type": "markdown",
      "source": [
        "Neste caso o gráfico de um impulso unitário pode não ser tão útil de se fazer uma vez que ele será representado por uma reta no instante zero tendendo ao infinito. Mas podemos aplicar as propriedades do impulso."
      ],
      "metadata": {
        "id": "IgsxdpstieWw"
      }
    },
    {
      "cell_type": "markdown",
      "source": [
        "- **Propriedade da amostragem da função Impulso unitário:**\n",
        "\n",
        "Exemplo 01:\n",
        "\n",
        "Tendo o impulso unitário: $$ \\delta(1-t)$$\n",
        "\n",
        "E a função: $$ t^2+4$$\n",
        "\n",
        "Exemplo 02:\n",
        "\n",
        "Tendo o impulso unitário: $$ \\delta(t)$$\n",
        "\n",
        "E a função: $$ e^{-3jt}$$\n",
        "\n",
        "Para a propriedade da amostragem temos que:\n",
        "- Definir o impulso unitário\n",
        "- Definir a função;\n",
        "- Utilizar a função `sp.integrate` da biblioteca `sympy` para realizar a propriedade.\n"
      ],
      "metadata": {
        "id": "rka6xyZisufK"
      }
    },
    {
      "cell_type": "code",
      "source": [
        "#exemplo 01\n",
        "im = sp.DiracDelta(1-t)\n",
        "f = t**3+4\n",
        "R = sp.integrate(f*im, (t, -sp.oo, sp.oo))\n",
        "R"
      ],
      "metadata": {
        "id": "95TU6Iqnsppz"
      },
      "execution_count": null,
      "outputs": []
    },
    {
      "cell_type": "code",
      "source": [
        "#exemplo 02\n",
        "from sympy import*\n",
        "j = I\n",
        "im = sp.DiracDelta(t)\n",
        "f = sp.exp(-3*j*t)\n",
        "R = sp.integrate(f*im, (t, -sp.oo, sp.oo))\n",
        "R"
      ],
      "metadata": {
        "id": "p0JJYFjHF8MV"
      },
      "execution_count": null,
      "outputs": []
    },
    {
      "cell_type": "markdown",
      "source": [
        "No exemplo 02, temos como função uma exponencial complexa, a biblioteca `sympy` tem por definida a representação da parte imaginaria como `I`, mas para termos de estudo ela foi denomidada com `j`   "
      ],
      "metadata": {
        "id": "KQ2K9XQJWS1N"
      }
    },
    {
      "cell_type": "markdown",
      "source": [
        "- **Impulso unitário como função generalizada:** \n",
        "\n",
        "Vamos cálcular $ \\frac{dx}{dt}$ do sinal $x(t) = -1[u(t+4)-u(t)]+1[u(t)-u(t-2)]$\n",
        "\n",
        "Para isso precisamos: \n",
        "- Definir o sinal $x(t)$ em `sympy`\n",
        "- Derivar usando a função `diff()`\n",
        "- Guarda o resultado em $x'(t)$"
      ],
      "metadata": {
        "id": "_iae1nr_n97q"
      }
    },
    {
      "cell_type": "code",
      "source": [
        "x = (-sp.Heaviside(t+4)+sp.Heaviside(t))+(sp.Heaviside(t)-sp.Heaviside(t-2))\n",
        "x"
      ],
      "metadata": {
        "id": "M3seg0tHqtzg",
        "colab": {
          "base_uri": "https://localhost:8080/",
          "height": 39
        },
        "outputId": "c2569af3-2dfe-4f37-9942-b16d9b06c97e"
      },
      "execution_count": 22,
      "outputs": [
        {
          "output_type": "execute_result",
          "data": {
            "text/plain": [
              "2*Heaviside(t) - Heaviside(t - 2) - Heaviside(t + 4)"
            ],
            "text/latex": "$\\displaystyle 2 \\theta\\left(t\\right) - \\theta\\left(t - 2\\right) - \\theta\\left(t + 4\\right)$"
          },
          "metadata": {},
          "execution_count": 22
        }
      ]
    },
    {
      "cell_type": "code",
      "source": [
        "xl = x.diff(t)\n",
        "xl"
      ],
      "metadata": {
        "id": "oMHKD44usuts",
        "colab": {
          "base_uri": "https://localhost:8080/",
          "height": 39
        },
        "outputId": "6b91a9c6-cb4d-42aa-ee4b-a31fd4626305"
      },
      "execution_count": 23,
      "outputs": [
        {
          "output_type": "execute_result",
          "data": {
            "text/plain": [
              "2*DiracDelta(t) - DiracDelta(t - 2) - DiracDelta(t + 4)"
            ],
            "text/latex": "$\\displaystyle 2 \\delta\\left(t\\right) - \\delta\\left(t - 2\\right) - \\delta\\left(t + 4\\right)$"
          },
          "metadata": {},
          "execution_count": 23
        }
      ]
    },
    {
      "cell_type": "markdown",
      "source": [
        "Segundo essa propriedade a derivada de um $u(t)$ é um  $\\delta(t) $. Por analogia então a integral de um $\\delta(t)$ é um $u(t)$ "
      ],
      "metadata": {
        "id": "sbCtly33tqwg"
      }
    },
    {
      "cell_type": "code",
      "source": [
        "xi= sp.integrate(xl)\n",
        "xi"
      ],
      "metadata": {
        "id": "fKv9o8GntPzw",
        "colab": {
          "base_uri": "https://localhost:8080/",
          "height": 39
        },
        "outputId": "dc69a08e-ec94-464c-f866-5bfaeddc5b75"
      },
      "execution_count": 24,
      "outputs": [
        {
          "output_type": "execute_result",
          "data": {
            "text/plain": [
              "2*Heaviside(t) - Heaviside(t - 2) - Heaviside(t + 4)"
            ],
            "text/latex": "$\\displaystyle 2 \\theta\\left(t\\right) - \\theta\\left(t - 2\\right) - \\theta\\left(t + 4\\right)$"
          },
          "metadata": {},
          "execution_count": 24
        }
      ]
    },
    {
      "cell_type": "markdown",
      "metadata": {
        "id": "4WD-gEIeLc-e"
      },
      "source": [
        "# **Sinal exponencial  $e^{st}$:**\n",
        "\n",
        "É definida pela função `sp.exp()`:"
      ]
    },
    {
      "cell_type": "markdown",
      "metadata": {
        "id": "jYk1LeYE4iOl"
      },
      "source": [
        "Dada a função exponencial $e^{st}$, sendo $s$ geralmente um número complexo \n",
        "$$ s = a +jb$$\n",
        " Vamos densenvolver os códigos para as seguintes situações:\n",
        " \n",
        " Para $s \\in$ aos $\\mathbb{R}$\n",
        " - a > 0 e b = 0\n",
        " - a < 0 e b = 0\n",
        " - a = 0 e b = 0\n",
        "\n",
        "Para $s \\in$ aos $\\mathbb{C}$   \n",
        " - a > 0 e b $\\neq$ 0\n",
        " - a < 0 e b $\\neq$ 0\n",
        " - a = 0 e b $\\neq$ 0"
      ]
    },
    {
      "cell_type": "code",
      "execution_count": null,
      "metadata": {
        "id": "8513MNErO2UG"
      },
      "outputs": [],
      "source": [
        "## Para s pertencente aos reais ##\n",
        "# a>0 e b=0\n",
        "s = 2+j*0\n",
        "F1 = sp.exp(s*t)\n",
        "p1 = sp.plot(F1, (t, -1, 2),ylabel='F1(t)', title = 'a>0 e b=0')\n",
        "\n",
        "# a<0 e b = 0\n",
        "s = -2+j*0\n",
        "F2 = sp.exp(s*t)\n",
        "p2 = sp.plot(F2, (t, -1, 2),ylabel='F2(t)', title = 'a<0 e b=0')\n",
        "\n",
        "# a=0 e b =0 \n",
        "s = 0+j*0\n",
        "F3 = sp.exp(s*t)\n",
        "p3 = sp.plot(F3,(t, -1, 2), ylim=(0,1.5), ylabel='F3(t)', xlabel='t', title ='a=0 e b=0' )"
      ]
    },
    {
      "cell_type": "code",
      "execution_count": null,
      "metadata": {
        "id": "FnNJkGWX3ZIP"
      },
      "outputs": [],
      "source": [
        "## Para s pertecente aos numeros complexos ##\n",
        "#  a > 0 b /= 0\n",
        "s = 1+j*6\n",
        "sc = 1-j*6\n",
        "x1 = (sp.exp(s*t)+sp.exp(sc*t))/2 \n",
        "x1 = sp.plot(x1, (t, -1, 2), title='Para a>0 e b=/0', ylabel='x1(t)')\n",
        "\n",
        "#  a < 0 b /= 0\n",
        "s1 = -1+j*6\n",
        "sc1 = -1-j*6\n",
        "x2 = (sp.exp(s1*t)+sp.exp(sc1*t))/2 \n",
        "x2 = sp.plot(x2, (t, -1, 2), title='Para a<0 e b/=0', ylabel='x2(t)')\n",
        "\n",
        "#  a = 0 b /= 0\n",
        "s2 = 0+j*6\n",
        "sc2 = 0-j*6\n",
        "x3 = (sp.exp(s2*t)+sp.exp(sc2*t))/2 \n",
        "x3 = sp.plot(x3, (t, -1, 2), title='Para a=0 e b/=0', ylabel='x3(t)')\n"
      ]
    }
  ],
  "metadata": {
    "colab": {
      "provenance": [],
      "include_colab_link": true
    },
    "kernelspec": {
      "display_name": "Python 3",
      "name": "python3"
    },
    "language_info": {
      "name": "python"
    }
  },
  "nbformat": 4,
  "nbformat_minor": 0
}