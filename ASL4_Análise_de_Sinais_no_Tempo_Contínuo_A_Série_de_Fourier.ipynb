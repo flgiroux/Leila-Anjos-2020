{
  "nbformat": 4,
  "nbformat_minor": 0,
  "metadata": {
    "colab": {
      "provenance": [],
      "include_colab_link": true
    },
    "kernelspec": {
      "name": "python3",
      "display_name": "Python 3"
    },
    "language_info": {
      "name": "python"
    }
  },
  "cells": [
    {
      "cell_type": "markdown",
      "metadata": {
        "id": "view-in-github",
        "colab_type": "text"
      },
      "source": [
        "<a href=\"https://colab.research.google.com/github/leilaneanjos/Analise_de_Sistemas_Lineares/blob/main/ASL4_An%C3%A1lise_de_Sinais_no_Tempo_Cont%C3%ADnuo_A_S%C3%A9rie_de_Fourier.ipynb\" target=\"_parent\"><img src=\"https://colab.research.google.com/assets/colab-badge.svg\" alt=\"Open In Colab\"/></a>"
      ]
    },
    {
      "cell_type": "markdown",
      "source": [
        "# **Análise de Sistemas Lineares**\n",
        "\n",
        "# 4 - Análise de Sinais no Tempo Contínuo: A Série de Fourier \n",
        "\n",
        "A partir do estudo de *Análise de Sinais no Tempo Contínuo: A Série de Fourier*, foi apresentado que um sinal periódico pode ser representado como a soma de senoides (ou  exponenciais, para a sua forma compacta) de várias frequências, para isso se fez uso da Série de Fourier. Neste notebook veremos como se aplica um sinal periódico utilizando a série de Fourier na Linguagem Python. \n",
        "\n",
        "\n",
        "# **Biblioteca:**\n",
        "\n",
        "Para desenvolvermos os códigos iremos utilizar como base a biblioteca `sympy`, sendo ela uma biblioteca para matemática simbólica, `numpy`, uma biblioteca numérica e o `matplotlib.pyplot`, sendo ela uma biblioteca para a plotagem de gráficos."
      ],
      "metadata": {
        "id": "Rz2ODz5zInle"
      }
    },
    {
      "cell_type": "markdown",
      "source": [
        "# 4.1 - Representação de sinais periódicos pela série trigonométrica de Fourier\n",
        " Sabemos que um sinal periódico irá apresentar uma repetição de sua amplitude a intervalos de tempo iguais. Para um sinal $x(t)$ com um período $T_0$, pode ser representado por:\n",
        " $$x(t)= x(t - T_0)$$ \n",
        "\n",
        " Por definição  sabemos que para ser periódico o sinal deve começar em $t=-\\infty$ e continuar até $t=\\infty$. Devido a sua periodicidade a área do sinal $x(t)$ para qualquer  intervalo de duração $T_0$ é a mesma, ou seja, idependentimente do valor real de $t$ a área será a mesma, deste modo podemos representar a área sobre $x(t)$ para qualquer intervalo de duração $T_0$ como sendo:\n",
        "\n",
        " $$(\\int_{a}^{a+T_0}x(t) dt = \\int_{b}^{b+T_0}x(t) dt) = \\int_{T_0}x(t) dt$$\n",
        "\n",
        " onde $a$ e $b$ são numeros reais.\n",
        "\n",
        "  \n"
      ],
      "metadata": {
        "id": "rkXCzD4BPjWH"
      }
    },
    {
      "cell_type": "markdown",
      "source": [
        "# **Exemplo 1:**\n",
        "Determine a série Trigonométrica compacta de Fourier do sinal periódico $x(t)$ mostrado na figura abaixo.Trace o espectro de amplitude e fase de x(t).\n",
        "![exemplo1.png](data:image/png;base64,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)"
      ],
      "metadata": {
        "id": "DbCByPY4jJ8E"
      }
    },
    {
      "cell_type": "markdown",
      "source": [
        "Se a forma compacta da série de Fourier é expressa por:\n",
        "\n",
        "$$ x(t)= C_0 + \\Sigma C_n cos (n\\omega_0t+\\theta_n)$$\n",
        "\n",
        "Onde:\n",
        "- $C_0$ = $a_0$;\n",
        "- $C_n$ = $\\sqrt[]{a_n^2+b_n^2}$\n",
        "- $\\theta_0$ = $tan^{-1}(\\frac{-b_n}{a_n})$ \n",
        "\n",
        "Como:\n",
        "- $a_0$ = $\\frac{1}{T_0} \\int_{T_0} x(t)$ $dt$\n",
        "- $a_n$ = $\\frac{2}{T_0} \\int_{T_0} x(t)$ $cos(n\\omega_0t)$ $dt$\n",
        "- $b_n$ = $\\frac{2}{T_0} \\int_{T_0} x(t)$ $sen(n\\omega_0t)$ $dt$\n",
        "\n",
        "Para realizarmos o que se pede no exemplo, a partir da linguagem python, precisaremos:\n",
        "\n",
        "- Importa a biblioteca `sympy`, `numpy` e a `matplotlib.pyplot`;\n",
        "- Definir a variável $t$ e a constante $n$ a partir da função `sp.symbols(' ')`;\n",
        "- Definir o sinal periódico $x(t)$;\n",
        "- Definir $T_0$ e $\\omega_0$;\n",
        "- Definir $a_0$, $a_n$, $b_n$, $C_n$ e $\\theta_0$ a partir de funções dadas pelas blibliotecas `sympy` e `numpy`.\n",
        "\n",
        "\n",
        "\n",
        "- Aplicar a sériede Fourier através da função `sp.fourier_series()`.\n",
        "\n"
      ],
      "metadata": {
        "id": "94w-58kVnB8B"
      }
    },
    {
      "cell_type": "markdown",
      "source": [
        "- Importando as blibliotecas"
      ],
      "metadata": {
        "id": "pbdSNG7SHrFM"
      }
    },
    {
      "cell_type": "code",
      "execution_count": 1,
      "metadata": {
        "id": "pzVKlD08FOml"
      },
      "outputs": [],
      "source": [
        "import sympy as sp\n",
        "import numpy as np\n",
        "from sympy import *\n",
        "import matplotlib.pyplot as plt"
      ]
    },
    {
      "cell_type": "markdown",
      "source": [
        "- Definindo a variável $t$ e a constante $n$ :"
      ],
      "metadata": {
        "id": "nUZqY1aQpCXH"
      }
    },
    {
      "cell_type": "code",
      "source": [
        "t = sp.symbols('t', real=True)\n",
        "n = sp.symbols('n', constant=True)"
      ],
      "metadata": {
        "id": "eA9mHAfMo-T6"
      },
      "execution_count": 2,
      "outputs": []
    },
    {
      "cell_type": "markdown",
      "source": [
        "- Definindo o sinal periódico $x(t)$: "
      ],
      "metadata": {
        "id": "30cwJr9TILzb"
      }
    },
    {
      "cell_type": "code",
      "source": [
        "x = sp.exp(-t/2)\n",
        "x"
      ],
      "metadata": {
        "colab": {
          "base_uri": "https://localhost:8080/",
          "height": 40
        },
        "id": "4eSG1Dz0IDle",
        "outputId": "4c43149e-ae79-4018-9744-2462c11d2bb3"
      },
      "execution_count": 3,
      "outputs": [
        {
          "output_type": "execute_result",
          "data": {
            "text/plain": [
              "exp(-t/2)"
            ],
            "text/latex": "$\\displaystyle e^{- \\frac{t}{2}}$"
          },
          "metadata": {},
          "execution_count": 3
        }
      ]
    },
    {
      "cell_type": "markdown",
      "source": [
        "como o sinal periódico se trata de uma exponencial, utiliza-se a função `sp.exp()`, sendo está função a representação da exponencial dada pela biblioteca `sympy`.\n",
        "\n",
        "- Definindo $T_0$ e $\\omega_0$:"
      ],
      "metadata": {
        "id": "mUYCuaIvpSp7"
      }
    },
    {
      "cell_type": "code",
      "source": [
        "T0= sp.pi\n",
        "w0 = 2"
      ],
      "metadata": {
        "id": "tgB6jEIKInf7"
      },
      "execution_count": 4,
      "outputs": []
    },
    {
      "cell_type": "markdown",
      "source": [
        "- Definindo $a_0$:"
      ],
      "metadata": {
        "id": "hW1jf_h9ItAw"
      }
    },
    {
      "cell_type": "code",
      "source": [
        "a0= (1/T0)*sp.integrate(x, (t, 0, T0))\n",
        "a0"
      ],
      "metadata": {
        "id": "FxgtS20PI0ZI",
        "colab": {
          "base_uri": "https://localhost:8080/",
          "height": 59
        },
        "outputId": "080cbd01-d4ac-4cf3-e747-4fcaa4a4fdaa"
      },
      "execution_count": 5,
      "outputs": [
        {
          "output_type": "execute_result",
          "data": {
            "text/plain": [
              "(2 - 2*exp(-pi/2))/pi"
            ],
            "text/latex": "$\\displaystyle \\frac{2 - \\frac{2}{e^{\\frac{\\pi}{2}}}}{\\pi}$"
          },
          "metadata": {},
          "execution_count": 5
        }
      ]
    },
    {
      "cell_type": "markdown",
      "source": [
        "`sp.integrate` é uma função da biblioteca `sympy` que realiza integrais. Para uma melhor visualização da resposta podemos fazer uso da função `.eval()`, onde através dela podemos passar uma precisão de números que se deseja trabalhar ( vizualizar). \n",
        " "
      ],
      "metadata": {
        "id": "6KSZDCchI-LQ"
      }
    },
    {
      "cell_type": "code",
      "source": [
        "a0 = a0.evalf(3)\n",
        "a0"
      ],
      "metadata": {
        "id": "xAxFetDWJWBh",
        "colab": {
          "base_uri": "https://localhost:8080/",
          "height": 37
        },
        "outputId": "92d3c4e3-bb74-4a3a-a845-7376f6383d00"
      },
      "execution_count": 6,
      "outputs": [
        {
          "output_type": "execute_result",
          "data": {
            "text/plain": [
              "0.504"
            ],
            "text/latex": "$\\displaystyle 0.504$"
          },
          "metadata": {},
          "execution_count": 6
        }
      ]
    },
    {
      "cell_type": "markdown",
      "source": [
        "- Definindo $a_n$:"
      ],
      "metadata": {
        "id": "neRUoZu0J12A"
      }
    },
    {
      "cell_type": "code",
      "source": [
        "an = (2/T0)*sp.integrate(x*(sp.cos(n*w0*t)), (t, 0, T0))\n",
        "an"
      ],
      "metadata": {
        "id": "UKYV6qXgKBHl",
        "colab": {
          "base_uri": "https://localhost:8080/",
          "height": 66
        },
        "outputId": "2f46c826-f196-4cd4-e7fe-3c0115692f11"
      },
      "execution_count": 7,
      "outputs": [
        {
          "output_type": "execute_result",
          "data": {
            "text/plain": [
              "2*(8*n*sin(2*pi*n)/(16*n**2*exp(pi/2) + exp(pi/2)) - 2*cos(2*pi*n)/(16*n**2*exp(pi/2) + exp(pi/2)) + 2/(16*n**2 + 1))/pi"
            ],
            "text/latex": "$\\displaystyle \\frac{2 \\left(\\frac{8 n \\sin{\\left(2 \\pi n \\right)}}{16 n^{2} e^{\\frac{\\pi}{2}} + e^{\\frac{\\pi}{2}}} - \\frac{2 \\cos{\\left(2 \\pi n \\right)}}{16 n^{2} e^{\\frac{\\pi}{2}} + e^{\\frac{\\pi}{2}}} + \\frac{2}{16 n^{2} + 1}\\right)}{\\pi}$"
          },
          "metadata": {},
          "execution_count": 7
        }
      ]
    },
    {
      "cell_type": "markdown",
      "source": [
        "O resultado que nos é retornado é apenas um simbolo visto do ponto de vista do python, mas como queremos interpretalo como uma equação que pode nos oferecer $a_n$ resultados a partir de n valores, utilizamos a função do `sympy` chamada `lambda` onde ela faz com que $a_n$ se torne uma função que dependa de $n$. "
      ],
      "metadata": {
        "id": "zoX6AMR6Kbam"
      }
    },
    {
      "cell_type": "code",
      "source": [
        "an = lambda n: (2/T0)*sp.integrate(x*(sp.cos(w0*n*t)), (t, 0, T0))\n",
        "an(1).evalf(3)"
      ],
      "metadata": {
        "id": "bkMPM9jlKK67",
        "colab": {
          "base_uri": "https://localhost:8080/",
          "height": 37
        },
        "outputId": "76ae0f14-6237-4dd6-8fac-accefdf48aee"
      },
      "execution_count": 8,
      "outputs": [
        {
          "output_type": "execute_result",
          "data": {
            "text/plain": [
              "0.0593"
            ],
            "text/latex": "$\\displaystyle 0.0593$"
          },
          "metadata": {},
          "execution_count": 8
        }
      ]
    },
    {
      "cell_type": "markdown",
      "source": [
        "- Definindo $b_n$:"
      ],
      "metadata": {
        "id": "521FauAbRL5k"
      }
    },
    {
      "cell_type": "code",
      "source": [
        "bn = (2/sp.pi)*sp.integrate(x*(sp.sin(w0*n*t)), (t, 0, sp.pi))\n",
        "bn"
      ],
      "metadata": {
        "id": "cCq8FE6KRK0h",
        "colab": {
          "base_uri": "https://localhost:8080/",
          "height": 66
        },
        "outputId": "ec1abc79-61e3-424d-b71e-22c489abb54e"
      },
      "execution_count": 9,
      "outputs": [
        {
          "output_type": "execute_result",
          "data": {
            "text/plain": [
              "2*(-8*n*cos(2*pi*n)/(16*n**2*exp(pi/2) + exp(pi/2)) + 8*n/(16*n**2 + 1) - 2*sin(2*pi*n)/(16*n**2*exp(pi/2) + exp(pi/2)))/pi"
            ],
            "text/latex": "$\\displaystyle \\frac{2 \\left(- \\frac{8 n \\cos{\\left(2 \\pi n \\right)}}{16 n^{2} e^{\\frac{\\pi}{2}} + e^{\\frac{\\pi}{2}}} + \\frac{8 n}{16 n^{2} + 1} - \\frac{2 \\sin{\\left(2 \\pi n \\right)}}{16 n^{2} e^{\\frac{\\pi}{2}} + e^{\\frac{\\pi}{2}}}\\right)}{\\pi}$"
          },
          "metadata": {},
          "execution_count": 9
        }
      ]
    },
    {
      "cell_type": "code",
      "source": [
        "bn = lambda n:(2/sp.pi)*sp.integrate(x*(sp.sin(2*n*t)), (t, 0, sp.pi))\n",
        "bn(1).evalf(3)"
      ],
      "metadata": {
        "id": "XVA_-tyxRbWi",
        "colab": {
          "base_uri": "https://localhost:8080/",
          "height": 37
        },
        "outputId": "ccb76bd6-7118-4c1c-b694-bce4d0eeb6f6"
      },
      "execution_count": 10,
      "outputs": [
        {
          "output_type": "execute_result",
          "data": {
            "text/plain": [
              "0.237"
            ],
            "text/latex": "$\\displaystyle 0.237$"
          },
          "metadata": {},
          "execution_count": 10
        }
      ]
    },
    {
      "cell_type": "markdown",
      "source": [
        "- Definindo $C_n$:"
      ],
      "metadata": {
        "id": "7zME0jk3RjBw"
      }
    },
    {
      "cell_type": "code",
      "source": [
        "Cn = lambda n: ((an(n)**2 + bn(n)**2))**(1/2)\n",
        "Cn(1).evalf(4)\n"
      ],
      "metadata": {
        "id": "1Xj6K76ARoni",
        "colab": {
          "base_uri": "https://localhost:8080/",
          "height": 37
        },
        "outputId": "55bb1722-1874-4c8a-9f4a-817af9a37dcb"
      },
      "execution_count": 11,
      "outputs": [
        {
          "output_type": "execute_result",
          "data": {
            "text/plain": [
              "0.2446"
            ],
            "text/latex": "$\\displaystyle 0.2446$"
          },
          "metadata": {},
          "execution_count": 11
        }
      ]
    },
    {
      "cell_type": "markdown",
      "source": [
        "Definindo $\\theta_n$:"
      ],
      "metadata": {
        "id": "1tQ9t-JSWRPq"
      }
    },
    {
      "cell_type": "code",
      "source": [
        "fase_n = lambda n: sp.atan(-bn(n)/an(n))*(180/sp.pi)\n",
        "fase_n(1).evalf(4)"
      ],
      "metadata": {
        "id": "hJT4T47_WXtr",
        "colab": {
          "base_uri": "https://localhost:8080/",
          "height": 37
        },
        "outputId": "6f1e688f-cf53-4a5e-8987-308d20252b6a"
      },
      "execution_count": 12,
      "outputs": [
        {
          "output_type": "execute_result",
          "data": {
            "text/plain": [
              "-75.96"
            ],
            "text/latex": "$\\displaystyle -75.96$"
          },
          "metadata": {},
          "execution_count": 12
        }
      ]
    },
    {
      "cell_type": "markdown",
      "source": [
        "Ao cálcular a fase utilizamos a função `sp.atan`, sendo ela responsavél por cálcular o arco tangente de uma função.\n",
        "Como o sympy retorna o valor do arco tangente em radianos multiplicamos a expressão por $\\frac{180}{\\pi}$"
      ],
      "metadata": {
        "id": "4LeZbWhTagBf"
      }
    },
    {
      "cell_type": "markdown",
      "source": [
        "Conseguimos realizar tudo o que foi proposto para a obtenção do que se pede no exemplo 1, mas para encontrarmos a série compacta de fourier e para  plotarmos o gráfico do espectro de amplitude e o de fase, é necessario n valores, para isso faremos uso de uma laço de repetição. "
      ],
      "metadata": {
        "id": "W7tV7jGfbFBS"
      }
    },
    {
      "cell_type": "markdown",
      "source": [
        "- Laço de repetição para $C_n$\n",
        "\n",
        "Para o laço de repitição teremos:\n",
        "- `N` que é responsavél pelo tamanho do nosso array;\n",
        "- `n` um array de `N` elementos;\n",
        "- `C` um array que irá guarda `N` elementos mas devido a ele ser do tipo `np.zeros` ele irá guarda `N` zeros;\n",
        "\n",
        "O comando `for` irá repetir 10 vezes a operação $C_n$ o responsável por essa ação será o `np.arange` onde ele irá ler a quantidade de termos no array `n` a partir da função `len()` e a cada laço ele implementa o valor da posição desse array. Quando a útima posição for implementada no `for` o laço de repetição se encerra e a operação realizada dentro do `for` será guardada nos array $C$.\n",
        "O mesmo processo irá se repetir quando fizermos um laço de repetição para a fase$(\\theta_0)$."
      ],
      "metadata": {
        "id": "hlEte4YViOFE"
      }
    },
    {
      "cell_type": "code",
      "source": [
        "N = 10\n",
        "n = np.arange(N)\n",
        "C = np.zeros(N)\n",
        "for i in np.arange(len(n)):\n",
        "  C[i]= Cn(n[i])"
      ],
      "metadata": {
        "id": "Y2b-jcfydr7T"
      },
      "execution_count": 13,
      "outputs": []
    },
    {
      "cell_type": "code",
      "source": [
        "C.round(3)"
      ],
      "metadata": {
        "id": "rzWZIiCce-vh",
        "colab": {
          "base_uri": "https://localhost:8080/"
        },
        "outputId": "c0f32cb3-eb7b-4b0c-f6ea-1f70e0bb29c7"
      },
      "execution_count": 14,
      "outputs": [
        {
          "output_type": "execute_result",
          "data": {
            "text/plain": [
              "array([1.009, 0.245, 0.125, 0.084, 0.063, 0.05 , 0.042, 0.036, 0.032,\n",
              "       0.028])"
            ]
          },
          "metadata": {},
          "execution_count": 14
        }
      ]
    },
    {
      "cell_type": "code",
      "source": [
        "plt.stem(C,use_line_collection=True)"
      ],
      "metadata": {
        "id": "lcXymwaZg9sP",
        "colab": {
          "base_uri": "https://localhost:8080/",
          "height": 283
        },
        "outputId": "9bfc5897-2793-4b68-f8a4-3ffe7d8cefca"
      },
      "execution_count": 15,
      "outputs": [
        {
          "output_type": "execute_result",
          "data": {
            "text/plain": [
              "<StemContainer object of 3 artists>"
            ]
          },
          "metadata": {},
          "execution_count": 15
        },
        {
          "output_type": "display_data",
          "data": {
            "text/plain": [
              "<Figure size 432x288 with 1 Axes>"
            ],
            "image/png": "[encoded data removed]"
          },
          "metadata": {
            "needs_background": "light"
          }
        }
      ]
    },
    {
      "cell_type": "markdown",
      "source": [
        "- Laço de repetição para $\\theta_n$"
      ],
      "metadata": {
        "id": "-Xn7h9FriVLp"
      }
    },
    {
      "cell_type": "code",
      "source": [
        "N = 10\n",
        "n = np.arange(N)\n",
        "fase = np.zeros(N)\n",
        "for i in np.arange(0, len(n)):\n",
        "  fase[i] = fase_n(n[i])"
      ],
      "metadata": {
        "id": "_mw5CcfAinQM"
      },
      "execution_count": 16,
      "outputs": []
    },
    {
      "cell_type": "code",
      "source": [
        "fase.round(3)"
      ],
      "metadata": {
        "id": "Rxh_R95fixsJ",
        "colab": {
          "base_uri": "https://localhost:8080/"
        },
        "outputId": "ede54fcc-8bd0-463d-a838-a42c81f6a8a1"
      },
      "execution_count": 17,
      "outputs": [
        {
          "output_type": "execute_result",
          "data": {
            "text/plain": [
              "array([  0.   , -75.964, -82.875, -85.236, -86.424, -87.138, -87.614,\n",
              "       -87.955, -88.21 , -88.409])"
            ]
          },
          "metadata": {},
          "execution_count": 17
        }
      ]
    },
    {
      "cell_type": "code",
      "source": [
        "plt.stem(fase,use_line_collection=True)"
      ],
      "metadata": {
        "id": "dI_p42Mxi1Ru",
        "colab": {
          "base_uri": "https://localhost:8080/",
          "height": 283
        },
        "outputId": "dde2d38d-93e0-4522-8a05-06a59a618f2f"
      },
      "execution_count": 18,
      "outputs": [
        {
          "output_type": "execute_result",
          "data": {
            "text/plain": [
              "<StemContainer object of 3 artists>"
            ]
          },
          "metadata": {},
          "execution_count": 18
        },
        {
          "output_type": "display_data",
          "data": {
            "text/plain": [
              "<Figure size 432x288 with 1 Axes>"
            ],
            "image/png": "[encoded data removed]"
          },
          "metadata": {
            "needs_background": "light"
          }
        }
      ]
    },
    {
      "cell_type": "markdown",
      "source": [
        "Já temos os aspectros de amplitude e de fase basta agora a equação compacta da serie de fourier"
      ],
      "metadata": {
        "id": "HHHfdax1jFeU"
      }
    },
    {
      "cell_type": "code",
      "source": [
        "N = 10\n",
        "n = np.arange(N)\n",
        "x_t = a0\n",
        "for i in np.arange(0, len(n)):\n",
        "  x_t += C[i]*sp.cos(i * w0 *t + fase[i])"
      ],
      "metadata": {
        "id": "jUr-VQ3rlHDv"
      },
      "execution_count": 19,
      "outputs": []
    },
    {
      "cell_type": "code",
      "source": [
        "x_t.evalf(3)"
      ],
      "metadata": {
        "id": "5fWVvXSsDXCb",
        "colab": {
          "base_uri": "https://localhost:8080/",
          "height": 83
        },
        "outputId": "077c7dce-69c4-4ccb-c8f3-cd70f76ebc97"
      },
      "execution_count": 20,
      "outputs": [
        {
          "output_type": "execute_result",
          "data": {
            "text/plain": [
              "0.245*cos(2*t - 75.9637565320735) + 0.125*cos(4*t - 82.8749836510982) + 0.0838*cos(6*t - 85.2363583092738) + 0.0629*cos(8*t - 86.4236656250027) + 0.0504*cos(10*t - 87.1375947738883) + 0.042*cos(12*t - 87.6140559696112) + 0.036*cos(14*t - 87.9545915111128) + 0.0315*cos(16*t - 88.2100893917539) + 0.028*cos(18*t - 88.4088597288054) + 1.51"
            ],
            "text/latex": "$\\displaystyle 0.245 \\cos{\\left(2 t - 75.9637565320735 \\right)} + 0.125 \\cos{\\left(4 t - 82.8749836510982 \\right)} + 0.0838 \\cos{\\left(6 t - 85.2363583092738 \\right)} + 0.0629 \\cos{\\left(8 t - 86.4236656250027 \\right)} + 0.0504 \\cos{\\left(10 t - 87.1375947738883 \\right)} + 0.042 \\cos{\\left(12 t - 87.6140559696112 \\right)} + 0.036 \\cos{\\left(14 t - 87.9545915111128 \\right)} + 0.0315 \\cos{\\left(16 t - 88.2100893917539 \\right)} + 0.028 \\cos{\\left(18 t - 88.4088597288054 \\right)} + 1.51$"
          },
          "metadata": {},
          "execution_count": 20
        }
      ]
    },
    {
      "cell_type": "markdown",
      "source": [
        "# **Série exponencial de Fourier:**\n",
        "\n",
        "A série exponencial de Fourier pode ser expressa por:\n",
        "\n",
        "$$ x(t) = \\Sigma D_ne^{jn\\omega_0t}$$\n",
        "Onde $D_n$ é expresso por:\n",
        "\n",
        "$$ D_n = \\frac{1}{T_0}\\int_{T_0} x(t) e^{-jn\\omega_0t} dt$$"
      ],
      "metadata": {
        "id": "DWCddVEnDiax"
      }
    },
    {
      "cell_type": "markdown",
      "source": [
        "# **Exemplo 2:**\n",
        "\n",
        "Determine a série exponencial de Fourier do sinal da figura do exemplo 1:"
      ],
      "metadata": {
        "id": "vTFkhR6XGp1l"
      }
    },
    {
      "cell_type": "markdown",
      "source": [
        "Primeiramente definimos a função $D_n$ como uma função que dependa de n, como feito no exemplo anterior ao definirmos $a_n$, $b_n$ e $C_n$."
      ],
      "metadata": {
        "id": "mS4zZq78NBO1"
      }
    },
    {
      "cell_type": "code",
      "source": [
        "j = I\n",
        "Dn = lambda n: (1/T0)*sp.integrate(x*(sp.exp(-j*n*w0*t)), (t, 0, T0))"
      ],
      "metadata": {
        "id": "qy3kfaLQHiqc"
      },
      "execution_count": 21,
      "outputs": []
    },
    {
      "cell_type": "markdown",
      "source": [
        "Para analisarmos $D_n$ como uma equação para n valores utilizamos um laço de repetição. A mesma idéia para o laço de repetição do $C_n$ para o exemplo 1 irá ser aplicado aqui mas teremos que nos atentar aos seguintes detalhes:\n",
        "\n",
        "- 1º: como por definição teremos valores complexos precisamos redefinir o array para poder receber valores complexos para isso utilizamos `astype(complex)`.\n",
        "- 2º para cada $n$ valor é retornado 2 termos da equação, exceto quando n=0, para esse caso nos é retornado o valor médio do sinal\n",
        " \n",
        " Devido a isso a quantidade de componentes do array `D` será de 21 termos por isso que `np.zeros(2*N+1)`.\n",
        " `n` é um array que guarda valores que começão em `-N` e terminam em `N+1`;"
      ],
      "metadata": {
        "id": "sUW8XIpjOBG3"
      }
    },
    {
      "cell_type": "code",
      "source": [
        "N =10\n",
        "D = np.zeros(2*N+1).astype(complex)\n",
        "n = np.arange(-N, N+1)\n",
        "for k in np.arange(0, len(n)):\n",
        "  D[k] = Dn(n[k])"
      ],
      "metadata": {
        "id": "PkWRWqyAHmyz"
      },
      "execution_count": 22,
      "outputs": []
    },
    {
      "cell_type": "markdown",
      "source": [
        "Denifindo a magnitude e fase:\n",
        "\n",
        "`np.abs` é uma função que cálcula o valor absoluto , sendo que o valor absoluto de um número é cálculado tirando a raiz quadrada da soma dos quadrados de suas componentes,ou seja, a magnitude (módulo). já para clacular o angulo utilizasse\n",
        "`np.angle`, como esta função retorna o valor em radianos faz-se uso do argumento `deg=True` para que seja retornado resultados em graus. "
      ],
      "metadata": {
        "id": "xJniS-LHSEfm"
      }
    },
    {
      "cell_type": "code",
      "source": [
        "magDn = np.abs(D)\n",
        "faseDn= np.angle(D, deg=True)"
      ],
      "metadata": {
        "id": "D6WLYYPHHpYX"
      },
      "execution_count": 23,
      "outputs": []
    },
    {
      "cell_type": "code",
      "source": [
        "plt.figure(figsize = (40, 10))\n",
        "plt.subplot(121)\n",
        "plt.stem(n, magDn, use_line_collection=True)\n",
        "plt.title('Espectro de Magnitude de x(t)')\n",
        "plt.subplot(122)\n",
        "plt.stem(n,faseDn, use_line_collection=True)\n",
        "plt.title('Espectro de Fase de x(t)')"
      ],
      "metadata": {
        "id": "UDBHMZ4fHvVf",
        "colab": {
          "base_uri": "https://localhost:8080/",
          "height": 458
        },
        "outputId": "d2af0f89-3e99-46f5-feee-df8264e62f20"
      },
      "execution_count": 24,
      "outputs": [
        {
          "output_type": "execute_result",
          "data": {
            "text/plain": [
              "Text(0.5, 1.0, 'Espectro de Fase de x(t)')"
            ]
          },
          "metadata": {},
          "execution_count": 24
        },
        {
          "output_type": "display_data",
          "data": {
            "text/plain": [
              "<Figure size 2880x720 with 2 Axes>"
            ],
            "image/png": "[encoded data removed]"
          },
          "metadata": {
            "needs_background": "light"
          }
        }
      ]
    },
    {
      "cell_type": "markdown",
      "source": [
        "Descrevedo cada função do matiplot.plypot utilizada:\n",
        "\n",
        "- `plt.figure()` = ela é usada quando queremos alterar as propriedades da figura, no caso queremos ajustar o tamanho da figura para isso dentro de seu argumento utilizasse o subcomando `figsize()` \n",
        "- `plt.subplot` = serve para plotar mais de um grafico em uma única figura normalmente em seu argumento os valores são separados por virgula onde`plt.subplot( numero de linhas (nrows), numero de colunas(ncols), o numero do gráfico(plot_number))`\n",
        "logo nó primeiro subplot temos: (nrows = 1, ncols = 2, plot_number=1). Já no segundo plot temos:  (nrows = 1, ncols = 2, plot_number=2)\n",
        "- `plt.stem()` = plota um tipo especifico de grafico no caso. chamado de gráfico de haste. Onde ele traça linhas vesticais em cada local x da linha base até y e coloca um marcardor lá."
      ],
      "metadata": {
        "id": "FhegJAprT7g3"
      }
    }
  ]
}