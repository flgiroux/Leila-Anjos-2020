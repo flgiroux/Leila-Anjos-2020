{
  "nbformat": 4,
  "nbformat_minor": 0,
  "metadata": {
    "colab": {
      "provenance": [],
      "authorship_tag": "ABX9TyOLatllXHw4DJkkeUgQYMn8",
      "include_colab_link": true
    },
    "kernelspec": {
      "name": "python3",
      "display_name": "Python 3"
    },
    "language_info": {
      "name": "python"
    }
  },
  "cells": [
    {
      "cell_type": "markdown",
      "metadata": {
        "id": "view-in-github",
        "colab_type": "text"
      },
      "source": [
        "<a href=\"https://colab.research.google.com/github/leilaneanjos/Analise_de_Sistemas_Lineares/blob/main/ASL2_An%C3%A1lise_do_Dom%C3%ADnio_do_Tempo_de_Sistemas_em_Tempo_Cont%C3%ADnuo.ipynb\" target=\"_parent\"><img src=\"https://colab.research.google.com/assets/colab-badge.svg\" alt=\"Open In Colab\"/></a>"
      ]
    },
    {
      "cell_type": "markdown",
      "source": [
        "# **Análise de Sistemas Lineares**\n",
        "#  2 Análise do Domínio do Tempo de Sistemas em Tempo Contínuo\n",
        "Para analise do domínio do tempo de sistemas lineares contínuos invariantes no tempo (LCIT), foi considerado sistemas lineares diferenciais onde a saída e a entrada do sistema estão relacionadas por equações diferenciais ordinárias. Com o objetivo de ensinar como a linguagem Python trabalha com esse tipo de informação veremos:\n",
        "\n",
        "- Resposta do sistema a condições internas: Resposta de entrada nula;\n",
        "- Resposta do sistemas a entrada externa: Resposta de estado nulo.\n"
      ],
      "metadata": {
        "id": "6urK9oWa_6EC"
      }
    },
    {
      "cell_type": "markdown",
      "source": [
        "\n",
        "# **Biblioteca:**\n",
        "Inicialmente se faz necessário a importação da biblioteca `sympy` , sendo ela a base para a construção dos códigos. Uma fonte importante para aprender `sympy` é na sua [página de documentação](https://docs.sympy.org/latest/index.html)."
      ],
      "metadata": {
        "id": "cyniTx57IUfF"
      }
    },
    {
      "cell_type": "code",
      "execution_count": null,
      "metadata": {
        "id": "Ryyexr0lNjaV"
      },
      "outputs": [],
      "source": [
        "import sympy as sp"
      ]
    },
    {
      "cell_type": "markdown",
      "source": [
        "#  **2-1 Resposta do sistema a condições internas: Resposta de entrada nula.**\n",
        "\n",
        "A resposta de entrada nula $y_0(t)$ é solução quando a entrada $x(t)=0$. Vale resaltar que dependendo da equação diferencial apresentada a resposta de entrada nula $y_0(t)$ pode apresentar:\n",
        " - Raizes Distintas ($\\lambda_1 \\neq \\lambda_2$);\n",
        " - Raizes Iguais ($\\lambda_1 = \\lambda_2$);\n",
        " - Raizes Complexas ($\\lambda_1= \\alpha + j\\beta; \\lambda_2=\\alpha - j\\beta $).\n",
        "\n",
        "\n",
        "\n",
        "\n",
        "\n",
        " "
      ],
      "metadata": {
        "id": "CS8XT_bUOrQe"
      }
    },
    {
      "cell_type": "markdown",
      "source": [
        "Para raizes características distintas tomemos como exemplo 1 o seguinte problema:\n",
        "\n",
        "# **Exemplo 1:**\n",
        "\n",
        "Determine $y_0(t)$, a componente de entrada nula da resposta de um sistema LCIT descrito pela seguinte equação diferencial:\n",
        "\n",
        "$$ \\frac{d^2y}{dt^2}+3\\frac{dy}{dt}+2y(t)= \\frac{dx}{dt}$$\n",
        "\n",
        "Para resolver este problema utilizando a linguagem python, teremos que:\n",
        "- Determinar a variável $t$ utilizando o arquivo `sp.symbols(' ')`;\n",
        "- Determinar a função $y(t)$ utilizando o arquivo `sp.Function(\" \")`;\n",
        "- Definir a equação a partir do arquivo `sp.Eq()`;\n",
        "- Utilizar o arquivo `sp.dsolve()` para resolver a equação para $y(t)$;\n",
        "- Utilizar o arquivo `sp.expand()` para expandi a função encontrada caso seja necessário."
      ],
      "metadata": {
        "id": "gsgZVHSwNk7z"
      }
    },
    {
      "cell_type": "markdown",
      "source": [
        "Determinando a variável $t$"
      ],
      "metadata": {
        "id": "cQoqPRRviXnl"
      }
    },
    {
      "cell_type": "code",
      "source": [
        "t = sp.symbols('t')"
      ],
      "metadata": {
        "id": "O7LJSMgLn00n"
      },
      "execution_count": null,
      "outputs": []
    },
    {
      "cell_type": "markdown",
      "source": [
        "Utilizando o arquivo `sp.Function(\" \")` da biblioteca `sympy` para fazer com que y deixe de ser uma condição de atribuição e passe a se tornar uma função que depende de uma variável "
      ],
      "metadata": {
        "id": "fgTbvR5Zi-ll"
      }
    },
    {
      "cell_type": "code",
      "source": [
        "y = sp.Function(\"y\")"
      ],
      "metadata": {
        "id": "KrJhQkQRj-tJ"
      },
      "execution_count": null,
      "outputs": []
    },
    {
      "cell_type": "markdown",
      "source": [
        "`sp.Eq()` irá permitir criar uma equação, onde em seu argumento teremos:\n",
        "- A equação que desejamos expressar;\n",
        "- E o valor em que a equação é igualada.\n",
        "\n",
        "Como no exemplo a equação se trata da soma de derivadas utilizamos o arquivo da biblioteca `sympy` denominada `sp.diff()` onde em seu argumento ,no modelo formal, temos:\n",
        "- A função que desejamos derivar;\n",
        "- A  variável que determina em função de que estamos derivando;\n",
        "- A ordem da derivada.\n",
        " \n",
        " Expressando em forma de código temos: \n",
        " - `sp.diff(y(t), t, 1)` \n",
        " \n",
        " Mas vale ressaltar que há outras maneiras de expressar `sp.diff()`, como por exemplo:\n",
        " - `y(t).diff(t)` para primeira ordem; \n",
        " - `y(t).diff(t,t)` para segunda ordem;\n",
        " - `y(t).diff(t, 1)` ou  `y(t).diff(t, 2)` sendo estas outras formas de definir a ordem da derivada. "
      ],
      "metadata": {
        "id": "XKYzS6KwkD4R"
      }
    },
    {
      "cell_type": "code",
      "source": [
        "equa =  sp.Eq(y(t).diff(t,t)+3*y(t).diff(t)+2*y(t), 0)\n",
        "equa"
      ],
      "metadata": {
        "id": "aVoE5dAtkDba",
        "colab": {
          "base_uri": "https://localhost:8080/",
          "height": 54
        },
        "outputId": "a4a69c7d-7061-421b-e739-6f8fdd05c732"
      },
      "execution_count": null,
      "outputs": [
        {
          "output_type": "execute_result",
          "data": {
            "text/plain": [
              "Eq(2*y(t) + 3*Derivative(y(t), t) + Derivative(y(t), (t, 2)), 0)"
            ],
            "text/latex": "$\\displaystyle 2 y{\\left(t \\right)} + 3 \\frac{d}{d t} y{\\left(t \\right)} + \\frac{d^{2}}{d t^{2}} y{\\left(t \\right)} = 0$"
          },
          "metadata": {},
          "execution_count": 7
        }
      ]
    },
    {
      "cell_type": "markdown",
      "source": [
        "Já definida a equação diferencial basta resolvê-la, para isso utiliza-se o arquivo `sp.dsolve()` onde ela tem por objetivo resolver equações diferenciais ordinárias para uma determinada função, logo em seu argumento teremos a equação diferencial (equa) e a função y(t)\n",
        "\n"
      ],
      "metadata": {
        "id": "k2KcPpKMpmld"
      }
    },
    {
      "cell_type": "code",
      "source": [
        "saida = sp.dsolve(equa, y(t))\n",
        "saida"
      ],
      "metadata": {
        "id": "LNB30mwv5gC_",
        "colab": {
          "base_uri": "https://localhost:8080/",
          "height": 38
        },
        "outputId": "c1890d75-c82d-4082-f7df-f1ef364cf81b"
      },
      "execution_count": null,
      "outputs": [
        {
          "output_type": "execute_result",
          "data": {
            "text/plain": [
              "Eq(y(t), (C1 + C2*exp(-t))*exp(-t))"
            ],
            "text/latex": "$\\displaystyle y{\\left(t \\right)} = \\left(C_{1} + C_{2} e^{- t}\\right) e^{- t}$"
          },
          "metadata": {},
          "execution_count": 8
        }
      ]
    },
    {
      "cell_type": "markdown",
      "source": [
        "As vezes para uma melhor vizualização da equação utiliza-se o arquivo `sp.expand()`, onde dentro do seu argumento temos a equação que desejamos expandir. Um outro modelo menos formal de expressar esse trecho de código seria por `saida.expand()`, onde a saida representa uma condição de atribuição onde equação estar guardada."
      ],
      "metadata": {
        "id": "8H-0DgJnz_Zc"
      }
    },
    {
      "cell_type": "code",
      "source": [
        "saida = sp.expand(saida)\n",
        "saida"
      ],
      "metadata": {
        "id": "BAsTpv_Gz_0J",
        "colab": {
          "base_uri": "https://localhost:8080/",
          "height": 38
        },
        "outputId": "fcb6c369-9879-46af-9504-bda3aded838b"
      },
      "execution_count": null,
      "outputs": [
        {
          "output_type": "execute_result",
          "data": {
            "text/plain": [
              "Eq(y(t), C1*exp(-t) + C2*exp(-2*t))"
            ],
            "text/latex": "$\\displaystyle y{\\left(t \\right)} = C_{1} e^{- t} + C_{2} e^{- 2 t}$"
          },
          "metadata": {},
          "execution_count": 9
        }
      ]
    },
    {
      "cell_type": "markdown",
      "source": [
        "Feito todos os procedimento citados no início do exemplo 1 foi-se possivél encontrar $y_0$, mas se analisarmos o resultado é de fácil percepção a presença de duas contantes $C_1$ e $C_2$, para determinar essas constantes se faz necessário determinar as condições iniciais. Logo para a equação do exemplo 1 quando $y_0(0)=0$ e $y'_0(0)=-5$, teremos:"
      ],
      "metadata": {
        "id": "LNvK42GA24r7"
      }
    },
    {
      "cell_type": "code",
      "source": [
        "saida = sp.dsolve(equa, y(t), ics = {y(0):0, y(t).diff(t).subs(t, 0):-5})\n",
        "saida = sp.expand(saida)\n",
        "saida"
      ],
      "metadata": {
        "id": "savCOeVd7OT2",
        "colab": {
          "base_uri": "https://localhost:8080/",
          "height": 38
        },
        "outputId": "32e04c95-59d4-4248-9695-7f8b0a58d174"
      },
      "execution_count": null,
      "outputs": [
        {
          "output_type": "execute_result",
          "data": {
            "text/plain": [
              "Eq(y(t), -5*exp(-t) + 5*exp(-2*t))"
            ],
            "text/latex": "$\\displaystyle y{\\left(t \\right)} = - 5 e^{- t} + 5 e^{- 2 t}$"
          },
          "metadata": {},
          "execution_count": 10
        }
      ]
    },
    {
      "cell_type": "markdown",
      "source": [
        "Observe que a única mudança feita foi no argumento do arquivo `sp.dsolve()`, pois uma vez que é definido condições inicias para $y_0$ existe um subcomando deste arquivo chamado `ics` que justamente trata sobre condições iniciais para EDO's. Sendo que o argumento deste subcomando está contido dentro de chaves.\n",
        "\n",
        "Analisando o argumento do subcomando `ics`, temos:\n",
        "- 1ª argumento: `y(0):0`, entende-se que para o resultado encontrado quando $t=0$, $ y=0$;\n",
        "- 2ª argumento: `y(t).diff(t).subs(t, 0):-5}`, entende-se como quando a derivada de primeira ordem for aplicada ao resultado encontrado substitua no lugar de t o valor 0 que por consequência irá fazer com que $y$ seja igual a -5.\n",
        "\n",
        "A capacidade de fazer essa substituição é dada pelo arquivo `sp.subs()`, mas a forma como ele aparece no código é em seu modelo não-formal.Depois se aplica `sp.expand()` para melhor análise da equação.   "
      ],
      "metadata": {
        "id": "GbpP1Osf8LRw"
      }
    },
    {
      "cell_type": "markdown",
      "source": [
        "Para raizes características iguais temos: \n",
        "\n",
        "# **Exemplo 2:** \n",
        "\n",
        "$$ \\frac{d^2y(t)}{dt^2}+6\\frac{dy(t)}{dt}+9y(t)= (3\\frac{dx(t)}{dt}+5)x(t)$$\n",
        "\n",
        "Tendo como condições inicias $y_0(0)=3$ e $y_0'(0)=-7$\n",
        "\n"
      ],
      "metadata": {
        "id": "Tj4rJMAqF4OU"
      }
    },
    {
      "cell_type": "code",
      "source": [
        "equa =  sp.Eq(y(t).diff(t,t)+6*y(t).diff(t)+9*y(t), 0)\n",
        "equa"
      ],
      "metadata": {
        "id": "uJzcW5PR8rKx",
        "colab": {
          "base_uri": "https://localhost:8080/",
          "height": 54
        },
        "outputId": "042f257e-0eed-4960-93da-1d995e61ec0c"
      },
      "execution_count": null,
      "outputs": [
        {
          "output_type": "execute_result",
          "data": {
            "text/plain": [
              "Eq(9*y(t) + 6*Derivative(y(t), t) + Derivative(y(t), (t, 2)), 0)"
            ],
            "text/latex": "$\\displaystyle 9 y{\\left(t \\right)} + 6 \\frac{d}{d t} y{\\left(t \\right)} + \\frac{d^{2}}{d t^{2}} y{\\left(t \\right)} = 0$"
          },
          "metadata": {},
          "execution_count": 11
        }
      ]
    },
    {
      "cell_type": "code",
      "source": [
        "saida = sp.dsolve(equa, y(t), ics = {y(0):3, y(t).diff(t).subs(t, 0):-7})\n",
        "saida = saida.expand()\n",
        "saida"
      ],
      "metadata": {
        "id": "zp_glHb_8uXP",
        "colab": {
          "base_uri": "https://localhost:8080/",
          "height": 38
        },
        "outputId": "d96bbced-2bbb-40a4-e853-c4e02c89668c"
      },
      "execution_count": null,
      "outputs": [
        {
          "output_type": "execute_result",
          "data": {
            "text/plain": [
              "Eq(y(t), 2*t*exp(-3*t) + 3*exp(-3*t))"
            ],
            "text/latex": "$\\displaystyle y{\\left(t \\right)} = 2 t e^{- 3 t} + 3 e^{- 3 t}$"
          },
          "metadata": {},
          "execution_count": 12
        }
      ]
    },
    {
      "cell_type": "markdown",
      "source": [
        "Para raizes características complexas temos:\n",
        "# **Exemplo 3:** \n",
        "\n",
        "$$ \\frac{d^2y(t)}{dt^2}+4\\frac{dy(t)}{dt}+40y(t)= (\\frac{dx(t)}{dt}+2)x(t)$$\n",
        "\n",
        "Tendo como condições inicias $y_0(0)=2$ e $y_0'(0)=16.78$"
      ],
      "metadata": {
        "id": "pdB5TWeiDxJ9"
      }
    },
    {
      "cell_type": "code",
      "source": [
        "equa =  sp.Eq(y(t).diff(t,t)+4*y(t).diff(t)+40*y(t), 0)\n",
        "equa\n"
      ],
      "metadata": {
        "id": "aM5Z66n8-EnX",
        "colab": {
          "base_uri": "https://localhost:8080/",
          "height": 54
        },
        "outputId": "244fec15-6c99-4776-ecc1-c4128aab4b30"
      },
      "execution_count": null,
      "outputs": [
        {
          "output_type": "execute_result",
          "data": {
            "text/plain": [
              "Eq(40*y(t) + 4*Derivative(y(t), t) + Derivative(y(t), (t, 2)), 0)"
            ],
            "text/latex": "$\\displaystyle 40 y{\\left(t \\right)} + 4 \\frac{d}{d t} y{\\left(t \\right)} + \\frac{d^{2}}{d t^{2}} y{\\left(t \\right)} = 0$"
          },
          "metadata": {},
          "execution_count": 13
        }
      ]
    },
    {
      "cell_type": "code",
      "source": [
        "saida = sp.dsolve(equa, y(t), ics = {y(0):2, y(t).diff(t).subs(t, 0):16.78})\n",
        "saida"
      ],
      "metadata": {
        "id": "ypwCALcj-ixF",
        "colab": {
          "base_uri": "https://localhost:8080/",
          "height": 38
        },
        "outputId": "849e57c6-a6e8-4ea0-95d6-51a166fe06b4"
      },
      "execution_count": null,
      "outputs": [
        {
          "output_type": "execute_result",
          "data": {
            "text/plain": [
              "Eq(y(t), (3.46333333333333*sin(6*t) + 2.0*cos(6*t))*exp(-2*t))"
            ],
            "text/latex": "$\\displaystyle y{\\left(t \\right)} = \\left(3.46333333333333 \\sin{\\left(6 t \\right)} + 2.0 \\cos{\\left(6 t \\right)}\\right) e^{- 2 t}$"
          },
          "metadata": {},
          "execution_count": 14
        }
      ]
    },
    {
      "cell_type": "markdown",
      "source": [
        "Quando trabalhamos com números irracionais utilizando a biblioteca `sympy` devemos nos atentar ao padrão de avaliação numérica, onde para essa biblioteca essa avaliação é realizada com a precisão de 15 dígitos decimais. Visualmente para um resultado final, dependendo do tipo de trabalho que esteja sendo realizado, não se torna agravedavel de ver tantos dígitos. \n",
        "\n",
        "Para aplicar uma precisão desejada em seu resultado se faz uso do arquivo `.evalf()`, onde em seu argumento irá ir a quantidade de digitos decimais que deseja trabalhar."
      ],
      "metadata": {
        "id": "Ce59n8rSJm0F"
      }
    },
    {
      "cell_type": "code",
      "source": [
        "saida = sp.dsolve(equa, y(t), ics = {y(0):2, y(t).diff(t).subs(t, 0):16.78}).evalf(3)\n",
        "saida"
      ],
      "metadata": {
        "id": "s43WgAQAHuPO",
        "colab": {
          "base_uri": "https://localhost:8080/",
          "height": 38
        },
        "outputId": "9a1abef2-988f-42f8-97a4-477ba3aa9a02"
      },
      "execution_count": null,
      "outputs": [
        {
          "output_type": "execute_result",
          "data": {
            "text/plain": [
              "Eq(y(t), (3.46*sin(6*t) + 2.0*cos(6*t))*exp(-2*t))"
            ],
            "text/latex": "$\\displaystyle y{\\left(t \\right)} = \\left(3.46 \\sin{\\left(6 t \\right)} + 2.0 \\cos{\\left(6 t \\right)}\\right) e^{- 2 t}$"
          },
          "metadata": {},
          "execution_count": 15
        }
      ]
    },
    {
      "cell_type": "markdown",
      "source": [
        "# **2-2 Resposta do sistema á entrada Externa : Resposta de estado nulo**\n",
        "\n",
        "A resposta de estado nulo é obtido a partir da *integral de convolução*, onde para um sistema **LCIT** ela é definida por:\n",
        "$$y(t)= x(t)h(t-\\tau) = \\int_{0}^{t} x(\\tau)h(t-\\tau) d\\tau$$\n",
        "# **Exemplo 1:**\n",
        "\n",
        "Para um sistema **LCIT** com resposta ao impulso unitário dada por $h(t)= e^{-2t}u(t)$. Determine a resposta $y(t)$ para a entrada $x(t)= e^{-t}u(t)$\n",
        "\n",
        "No intuitor de resolver esse exmplo iremos seguir os seguinte passos:\n",
        "- Determinar a variável $\\tau$ e $t$ utilizando `sp.symbols`;\n",
        "- Determinar a entrada $x(t)$ e o impulso unitário $h(t)$ em `sympy`;\n",
        "- Utilizar `sp.subs()` para colocar $x(t)$ e $h(t-\\tau)$ em função da variável dependente $\\tau$;\n",
        "- Utilizar `sp.integrate()` para realizar a integral de convolução. Por se tratar de uma integral definida em seu argumento irá a função que se deseja integrar, a variável que representa em função de que estamos integrando e os limites de integração;\n",
        "- Utilizar `sp.expand()` expandir a resposta $y(t)$ e posteriormente `sp.collect()` para colocar um termo em evidência. \n"
      ],
      "metadata": {
        "id": "cUhgQSJn4Z_u"
      }
    },
    {
      "cell_type": "markdown",
      "source": [
        "Determinando $\\tau$ e $t$: "
      ],
      "metadata": {
        "id": "R-eAiw6AbbSS"
      }
    },
    {
      "cell_type": "code",
      "source": [
        "tau= sp.symbols ('tau')\n",
        "t = sp.symbols('t', positive = True)"
      ],
      "metadata": {
        "id": "m0bbD8ju49N3"
      },
      "execution_count": null,
      "outputs": []
    },
    {
      "cell_type": "markdown",
      "source": [
        "Ao declararmos a variável $t$ foi colocado um subcomando afirmando que t é positivo, como temos tanto na entrada $x(t)$ quando no impulso unitário $h(t)$ um degrau sendo multiplicado ao afirmamos que t é positivo por definição o degrau passa a ser 1. "
      ],
      "metadata": {
        "id": "PmczCoj6gzwt"
      }
    },
    {
      "cell_type": "markdown",
      "source": [
        "Determinando $x(t)$ e $h(t)$. Lembrando que `sp.Heaviside()` é um arquivo da biblioteca `sympy` que representa o degrau $u(t)$ por termos da própria definição da biblioteca ele é reprentado por $\\theta(t)$"
      ],
      "metadata": {
        "id": "2tEz6CQMafhD"
      }
    },
    {
      "cell_type": "code",
      "source": [
        "x = (sp.exp(-t)*sp.Heaviside(t))\n",
        "x"
      ],
      "metadata": {
        "colab": {
          "base_uri": "https://localhost:8080/",
          "height": 39
        },
        "id": "YeNdSx135nmd",
        "outputId": "3140286e-fde3-47f0-9f2f-b223dfb9a006"
      },
      "execution_count": null,
      "outputs": [
        {
          "output_type": "execute_result",
          "data": {
            "text/plain": [
              "exp(-t)"
            ],
            "text/latex": "$\\displaystyle e^{- t}$"
          },
          "metadata": {},
          "execution_count": 16
        }
      ]
    },
    {
      "cell_type": "code",
      "source": [
        "h = sp.exp(-2*t)*sp.Heaviside(t)\n",
        "h"
      ],
      "metadata": {
        "colab": {
          "base_uri": "https://localhost:8080/",
          "height": 39
        },
        "id": "0CuUsIE-52wr",
        "outputId": "041e3c91-bb4f-4f8c-a540-bd8ccb1a5661"
      },
      "execution_count": null,
      "outputs": [
        {
          "output_type": "execute_result",
          "data": {
            "text/plain": [
              "exp(-2*t)"
            ],
            "text/latex": "$\\displaystyle e^{- 2 t}$"
          },
          "metadata": {},
          "execution_count": 17
        }
      ]
    },
    {
      "cell_type": "markdown",
      "source": [
        "Aplicando `sp.subs()` no caso ultilando a maneira informal `x.subs()` e `h.subs()`"
      ],
      "metadata": {
        "id": "0YWBYjfocNUY"
      }
    },
    {
      "cell_type": "code",
      "source": [
        "x = x.subs(t, tau)\n",
        "x"
      ],
      "metadata": {
        "colab": {
          "base_uri": "https://localhost:8080/",
          "height": 39
        },
        "id": "iisMVWwh6Ble",
        "outputId": "cf5012d2-c002-4157-ae43-3b858e344cf3"
      },
      "execution_count": null,
      "outputs": [
        {
          "output_type": "execute_result",
          "data": {
            "text/plain": [
              "exp(-tau)"
            ],
            "text/latex": "$\\displaystyle e^{- \\tau}$"
          },
          "metadata": {},
          "execution_count": 18
        }
      ]
    },
    {
      "cell_type": "code",
      "source": [
        "h = h.subs(t, t-tau)\n",
        "h"
      ],
      "metadata": {
        "colab": {
          "base_uri": "https://localhost:8080/",
          "height": 39
        },
        "id": "8QGMZJNJ8nU5",
        "outputId": "2fa831a9-5121-4dfe-969f-708566163dda"
      },
      "execution_count": null,
      "outputs": [
        {
          "output_type": "execute_result",
          "data": {
            "text/plain": [
              "exp(-2*t + 2*tau)"
            ],
            "text/latex": "$\\displaystyle e^{- 2 t + 2 \\tau}$"
          },
          "metadata": {},
          "execution_count": 19
        }
      ]
    },
    {
      "cell_type": "markdown",
      "source": [
        "Aplicando a integral e convolução a partir de `sp.integrate` e posteriormente empregando `sp.expand()` para expandir e `sp.collect()` para colocar um termo em envidência, temos:  "
      ],
      "metadata": {
        "id": "Y5DKvlGvc3YQ"
      }
    },
    {
      "cell_type": "code",
      "source": [
        "y = sp.integrate(x*h, (tau, 0, t))\n",
        "y = y.expand()\n",
        "#y = sp.collect(y, sp.Heaviside(t))\n",
        "y "
      ],
      "metadata": {
        "id": "7F1_QkJA8-WH",
        "colab": {
          "base_uri": "https://localhost:8080/",
          "height": 39
        },
        "outputId": "e15d6068-8ef6-4a6b-b3a4-c67b8bb3918d"
      },
      "execution_count": null,
      "outputs": [
        {
          "output_type": "execute_result",
          "data": {
            "text/plain": [
              "exp(-t) - exp(-2*t)"
            ],
            "text/latex": "$\\displaystyle e^{- t} - e^{- 2 t}$"
          },
          "metadata": {},
          "execution_count": 20
        }
      ]
    },
    {
      "cell_type": "markdown",
      "source": [
        "Graficamente podemos expressar $y(t)$ utilizando `sp.plot()` onde em seu argumento teremos:\n",
        "- `y`, é uma condição de atribuição do qual o resultado encontrado estar guardado;\n",
        "- `(t, 0, 3)`, são os limites de variação de t;\n",
        "- `ylabel=' '`, permite determinar um nome para a ordenada; \n",
        "- `size ( altura, comprimento)`, permite dimencionar o tamanho do gráfico;\n",
        "- "
      ],
      "metadata": {
        "id": "z7BckejHh6Ft"
      }
    },
    {
      "cell_type": "code",
      "source": [
        "p = sp.plot(y, (t, 0, 3), ylim= (-1, 1), ylabel='y(t)',size=(7, 5))"
      ],
      "metadata": {
        "id": "mSWb4nKlFsRu",
        "colab": {
          "base_uri": "https://localhost:8080/",
          "height": 369
        },
        "outputId": "96bdbc66-56b6-4cc8-ccd0-283d652fe1a7"
      },
      "execution_count": null,
      "outputs": [
        {
          "output_type": "display_data",
          "data": {
            "text/plain": [
              "<Figure size 504x360 with 1 Axes>"
            ],
            "image/png": "[encoded data removed]"
          },
          "metadata": {
            "needs_background": "light"
          }
        }
      ]
    },
    {
      "cell_type": "markdown",
      "source": [
        "Podemos também fazer um gráfico mais detalhado, como $y(t)$ é representado pela subtração de duas exponenciais, $y(t) = e^{-t}-e^{-2t}$, em uma única plotagem  podemos apresentar a exponencial $e^{-t}$, $-e^{-2t}$ e a função $y(t)$. Pra realizar essa operação se faz uso do arquivo `sp.extend()`."
      ],
      "metadata": {
        "id": "U5FO9JpBzeJB"
      }
    },
    {
      "cell_type": "code",
      "source": [
        "p1 = sp.plot(sp.exp(-t), -sp.exp(-2*t), (t, 0, 3), line_color = 'red', show = False)\n",
        "p.extend(p1)\n",
        "p.show()"
      ],
      "metadata": {
        "id": "g1L1GIwQSNkY",
        "colab": {
          "base_uri": "https://localhost:8080/",
          "height": 369
        },
        "outputId": "8c292fee-0715-43b3-c994-c84c699c41e4"
      },
      "execution_count": null,
      "outputs": [
        {
          "output_type": "display_data",
          "data": {
            "text/plain": [
              "<Figure size 504x360 with 1 Axes>"
            ],
            "image/png": "[encoded data removed]"
          },
          "metadata": {
            "needs_background": "light"
          }
        }
      ]
    },
    {
      "cell_type": "markdown",
      "source": [
        "No argumento do `sp.plot` foi adicionado:\n",
        "- As duas funções exponenciais a partir do arquivo `sp.exp()` da biblioteca `sympy`;\n",
        "- A variação em $t$;\n",
        "- Subcomando `line_color =' '`, que permite alterar a cor das funções no gráfico;\n",
        "- Uma condição `show = False`, que impede a aparição do gráfico `p1` após compilar o código.\n",
        "\n",
        "O comando `p.extend(p1)`, é o que permite que no gráfico `p` seja adicionado a plontagem `p1`, ou seja, vamos extrair os dados de `p1` e adicionar em `p`, ficando assim com 3 conjuntos de dados em nossa lista . Já o comando `p.show()` é o responsavel por permitir a aparição do gráfico na tela. \n",
        "\n"
      ],
      "metadata": {
        "id": "5KCCUHYVJ_UH"
      }
    },
    {
      "cell_type": "markdown",
      "source": [
        "# **Exemplo 02:** \n",
        "Circuitos RC são bastante utilizados para a filtragem de sinais em eletrônica.Engenheiros sabem que a resposta deste circuito a um impulso é dada por $$h(t)= \\frac{3}{4}e^{-\\frac{3t}{4}} u(t)$$\n",
        "Determine a resposta deste circuito para o sinal $x(t)= 2\\delta(t-1)+3e^{-2t}u(t)$.\n",
        "\n"
      ],
      "metadata": {
        "id": "VWK4CKCWi04q"
      }
    },
    {
      "cell_type": "code",
      "source": [
        "x=2*sp.DiracDelta(t-1)+3*sp.exp(-2*t)*sp.Heaviside(t)\n",
        "x"
      ],
      "metadata": {
        "id": "uYZ71IegRw_o",
        "colab": {
          "base_uri": "https://localhost:8080/",
          "height": 39
        },
        "outputId": "99a631f1-5e9a-4774-d417-8946b6473b1a"
      },
      "execution_count": null,
      "outputs": [
        {
          "output_type": "execute_result",
          "data": {
            "text/plain": [
              "2*DiracDelta(t - 1) + 3*exp(-2*t)"
            ],
            "text/latex": "$\\displaystyle 2 \\delta\\left(t - 1\\right) + 3 e^{- 2 t}$"
          },
          "metadata": {},
          "execution_count": 23
        }
      ]
    },
    {
      "cell_type": "code",
      "source": [
        "h=(3/4)*sp.exp(-3*t/4)*sp.Heaviside(t)\n",
        "h"
      ],
      "metadata": {
        "id": "db7eh-VHSgoB",
        "colab": {
          "base_uri": "https://localhost:8080/",
          "height": 41
        },
        "outputId": "33c6741e-028e-4e0b-e386-6b15794c2340"
      },
      "execution_count": null,
      "outputs": [
        {
          "output_type": "execute_result",
          "data": {
            "text/plain": [
              "0.75*exp(-3*t/4)"
            ],
            "text/latex": "$\\displaystyle 0.75 e^{- \\frac{3 t}{4}}$"
          },
          "metadata": {},
          "execution_count": 24
        }
      ]
    },
    {
      "cell_type": "code",
      "source": [
        "x = x.subs(t, tau)\n",
        "x"
      ],
      "metadata": {
        "id": "ZfvcGBSgTOOF",
        "colab": {
          "base_uri": "https://localhost:8080/",
          "height": 39
        },
        "outputId": "c1cc7c65-d54b-4ca4-fccd-1415b538da15"
      },
      "execution_count": null,
      "outputs": [
        {
          "output_type": "execute_result",
          "data": {
            "text/plain": [
              "2*DiracDelta(tau - 1) + 3*exp(-2*tau)"
            ],
            "text/latex": "$\\displaystyle 2 \\delta\\left(\\tau - 1\\right) + 3 e^{- 2 \\tau}$"
          },
          "metadata": {},
          "execution_count": 25
        }
      ]
    },
    {
      "cell_type": "code",
      "source": [
        "h = h.subs(t, t-tau)\n",
        "h"
      ],
      "metadata": {
        "id": "vL1T_q5sTSME",
        "colab": {
          "base_uri": "https://localhost:8080/",
          "height": 41
        },
        "outputId": "6d457a89-1401-479a-be3c-43413ecbab5d"
      },
      "execution_count": null,
      "outputs": [
        {
          "output_type": "execute_result",
          "data": {
            "text/plain": [
              "0.75*exp(-3*t/4 + 3*tau/4)"
            ],
            "text/latex": "$\\displaystyle 0.75 e^{- \\frac{3 t}{4} + \\frac{3 \\tau}{4}}$"
          },
          "metadata": {},
          "execution_count": 26
        }
      ]
    },
    {
      "cell_type": "code",
      "source": [
        "y = sp.integrate(x*h, (tau, 0, t))\n",
        "y "
      ],
      "metadata": {
        "id": "U8OZyfURTn7s",
        "colab": {
          "base_uri": "https://localhost:8080/",
          "height": 41
        },
        "outputId": "be25e01b-07be-4414-fbfc-79846bebdd52"
      },
      "execution_count": null,
      "outputs": [
        {
          "output_type": "execute_result",
          "data": {
            "text/plain": [
              "-1.8*exp(-2*t) + 1.5*exp(3/4)*exp(-3*t/4)*Heaviside(t - 1) + 1.8*exp(-3*t/4)"
            ],
            "text/latex": "$\\displaystyle - 1.8 e^{- 2 t} + 1.5 e^{\\frac{3}{4}} e^{- \\frac{3 t}{4}} \\theta\\left(t - 1\\right) + 1.8 e^{- \\frac{3 t}{4}}$"
          },
          "metadata": {},
          "execution_count": 27
        }
      ]
    },
    {
      "cell_type": "code",
      "source": [
        "p = sp.plot(y, (t, 0, 3), ylim= (-2, 3),  ylabel='y(t)', size=(7, 5))"
      ],
      "metadata": {
        "colab": {
          "base_uri": "https://localhost:8080/",
          "height": 369
        },
        "id": "8UFEiqNNVDup",
        "outputId": "6baf150f-3d9d-4346-ea5d-429d72843672"
      },
      "execution_count": null,
      "outputs": [
        {
          "output_type": "display_data",
          "data": {
            "text/plain": [
              "<Figure size 504x360 with 1 Axes>"
            ],
            "image/png": "[encoded data removed]"
          },
          "metadata": {
            "needs_background": "light"
          }
        }
      ]
    },
    {
      "cell_type": "code",
      "source": [
        "um= -1.8*sp.exp(-2*t)\n",
        "dois= 1.5*sp.exp(3/4)*sp.exp(-3*t/4)*sp.Heaviside(t-1)\n",
        "tres=  1.8*sp.exp(-3*t/4)\n",
        "\n",
        "p1 = sp.plot(um, dois, tres,  (t, 0, 3),show = False)\n",
        "p1[0].line_color = 'green'\n",
        "p1[1].line_color = 'orange'\n",
        "p1[2].line_color = 'red'\n",
        "\n",
        "p.extend(p1)\n",
        "p.show()"
      ],
      "metadata": {
        "id": "HP9KE5XhWiT4",
        "colab": {
          "base_uri": "https://localhost:8080/",
          "height": 369
        },
        "outputId": "1e441cbd-fb37-47b7-9aed-6437406f6a4d"
      },
      "execution_count": null,
      "outputs": [
        {
          "output_type": "display_data",
          "data": {
            "text/plain": [
              "<Figure size 504x360 with 1 Axes>"
            ],
            "image/png": "[encoded data removed]"
          },
          "metadata": {
            "needs_background": "light"
          }
        }
      ]
    },
    {
      "cell_type": "markdown",
      "source": [
        "Ao expressar cada componente de $y(t)$ graficamente, podemos definir a cor para cada uma delas de modo que se possa vizualizar melhor o gráfico. Para isso basta definir a cor de forma separada para cada conjunto de dados da lista. Se `line_color= ' '` for aplicado dentro do arguemento de `sp.plot()` de `p1` todas as componentes de $y(t)$ teram a mesma cor definida."
      ],
      "metadata": {
        "id": "oB4tdWXQcPfM"
      }
    }
  ]
}