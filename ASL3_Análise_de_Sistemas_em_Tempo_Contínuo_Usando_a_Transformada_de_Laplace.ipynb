{
  "cells": [
    {
      "cell_type": "markdown",
      "metadata": {
        "id": "view-in-github",
        "colab_type": "text"
      },
      "source": [
        "<a href=\"https://colab.research.google.com/github/leilaneanjos/Analise_de_Sistemas_Lineares/blob/main/ASL3_An%C3%A1lise_de_Sistemas_em_Tempo_Cont%C3%ADnuo_Usando_a_Transformada_de_Laplace.ipynb\" target=\"_parent\"><img src=\"https://colab.research.google.com/assets/colab-badge.svg\" alt=\"Open In Colab\"/></a>"
      ]
    },
    {
      "cell_type": "markdown",
      "metadata": {
        "id": "7Bt_Pp418VSv"
      },
      "source": [
        "# **Análise de Sistemas Lineares** \n",
        "# 3 - Análise de Sistemas em Tempo Contínuo Usando a Transformada de Laplace \n",
        "\n",
        "A partir do estudo de análise no domínio do tempo de sistemas em tempo contínuo foi definido que para determinar as respostas de sistemas lineares invariantes no tempo (SLIT), podemos dividir a entrada em duas componentes e, então, igualar a resposta do sistema à soma dessas duas componentes, onde se faz uso de artifícios matemáticos como a integral de convolução para determinar o sinal de saída do sistema.\n",
        "\n",
        "Mas uma outra forma de se obter a resposta de sistemas lineares invariantes no tempo sem a utilização de operações matemáticas muito complexas é fazendo a mudança do domínio no tempo para o dominio na frequência, para fazer essa conversão utiliza-se a *transformada de Laplace*.\n",
        "\n",
        "Com o intuito de sair um pouco mais do papel e analisar como um programa computacional faz para realizar essa conversão de domínio, este documento tem por objetivo demonstrar como é realizado a *transformada de Laplace* e a *transformada inversa de Laplace* utilizando a linguagem Python. \n",
        "\n",
        "  \n",
        "\n"
      ]
    },
    {
      "cell_type": "markdown",
      "metadata": {
        "id": "K2UjCx4zOrvg"
      },
      "source": [
        "# Biblioteca \n",
        "\n",
        "  Antes de desenvolvermos os códigos precisamos inicialmente definir a biblioteca que será utilizada, no caso, faremos uso da biblioteca `sympy`, sendo ela uma biblioteca para matemática simbólica. Uma fonte importante para aprender `sympy` é na sua [página de documentação](https://docs.sympy.org/latest/index.html)."
      ]
    },
    {
      "cell_type": "code",
      "execution_count": 1,
      "metadata": {
        "id": "1GNZFIskRbfA"
      },
      "outputs": [],
      "source": [
        "import sympy as sp"
      ]
    },
    {
      "cell_type": "markdown",
      "metadata": {
        "id": "pwcH8zLLRs80"
      },
      "source": [
        "# 3.1- Transformada de Laplace\n",
        "\n",
        "Para um sinal x(t), a tranformada de Laplace X(s) é definida por:\n",
        "\n",
        "\n",
        "$$ X(s)= \\int_{-\\infty}^{\\infty} x(t)e^{-st}  dt$$\n",
        "\n",
        "Sendo representada simbolicamente como: \n",
        "\n",
        "$$ X(s)= \\mathcal{L}\\{x(t)\\}$$\n",
        "\n",
        "Tomemos como exemplo 1 calcular a transformada de Laplace de um sinal degrau $u(t)$. Logo temos a sua representação simbólica como:\n",
        "\n",
        "$$ U(s)= \\mathcal{L}\\{u(t)\\}$$\n",
        "\n",
        "Para o cálculo em python primeiramente vamos definir $u(t)$ em `sympy`. Com essa finalidade utilizamos uma função da biblioteca chamada `sp.symbols` para declaramos as variáveis que iremos utilizar e a função `sp.Heaviside(t)`, que nada mais é do que a função degral definida pela biblioteca `sympy`.\n",
        "\n",
        "\n"
      ]
    },
    {
      "cell_type": "code",
      "execution_count": 2,
      "metadata": {
        "id": "9w54XmxAdYh0"
      },
      "outputs": [],
      "source": [
        "s = sp.symbols('s')\n",
        "t = sp.symbols('t')\n",
        "u = sp.Heaviside(t)"
      ]
    },
    {
      "cell_type": "markdown",
      "metadata": {
        "id": "eZjzvgove8CG"
      },
      "source": [
        "Após definirmos $u(t)$, integramos o sinal utilizando a função `sp.integrate`, tendo os limites de integração de 0 a $\\infty$, e guardamos essa informação em U."
      ]
    },
    {
      "cell_type": "code",
      "execution_count": 3,
      "metadata": {
        "colab": {
          "base_uri": "https://localhost:8080/",
          "height": 83
        },
        "id": "u-1s8BQe1Lz3",
        "outputId": "87f6b911-6ba8-469d-a767-04af803fd98e"
      },
      "outputs": [
        {
          "output_type": "execute_result",
          "data": {
            "text/plain": [
              "Piecewise((1/s, Abs(arg(s)) < pi/2), (Integral(exp(-s*t)*Heaviside(t), (t, 0, oo)), True))"
            ],
            "text/latex": "$\\displaystyle \\begin{cases} \\frac{1}{s} & \\text{for}\\: \\left|{\\arg{\\left(s \\right)}}\\right| < \\frac{\\pi}{2} \\\\\\int\\limits_{0}^{\\infty} e^{- s t} \\theta\\left(t\\right)\\, dt & \\text{otherwise} \\end{cases}$"
          },
          "metadata": {},
          "execution_count": 3
        }
      ],
      "source": [
        "U = sp.integrate(u*sp.exp(-s*t), (t, 0, sp.oo))\n",
        "U"
      ]
    },
    {
      "cell_type": "markdown",
      "metadata": {
        "id": "Wj1QjmBMU-J7"
      },
      "source": [
        "Esta não uma forma fechada desejável, pois o resultado é dependente de condições de convergência da integral."
      ]
    },
    {
      "cell_type": "markdown",
      "metadata": {
        "id": "bkGvrDs45EmG"
      },
      "source": [
        " Outra forma de obter a transformada de Lapace é aplicando a função `sp.laplace_transform()`, onde em seu argumento temos: \n",
        " - u : é o sinal que desejamos aplicar a transformada;\n",
        " - t : a variável independente;\n",
        " - s : a variável complexa. \n",
        " - noconds = True : é uma condição adicional ao argumento que impede que a função retorne condições de convergência."
      ]
    },
    {
      "cell_type": "code",
      "execution_count": 4,
      "metadata": {
        "id": "ORV6gtYllibD",
        "colab": {
          "base_uri": "https://localhost:8080/",
          "height": 51
        },
        "outputId": "da97ea4c-d49f-463d-fa2c-bd25a8d170f9"
      },
      "outputs": [
        {
          "output_type": "execute_result",
          "data": {
            "text/plain": [
              "1/s"
            ],
            "text/latex": "$\\displaystyle \\frac{1}{s}$"
          },
          "metadata": {},
          "execution_count": 4
        }
      ],
      "source": [
        "U = sp.laplace_transform(u, t, s, noconds = True)\n",
        "U"
      ]
    },
    {
      "cell_type": "markdown",
      "metadata": {
        "id": "q27tqyrrcfUo"
      },
      "source": [
        "Aplicando os mesmos comandos porém agora a um impulso unitário $\\delta(t)$, temos:  "
      ]
    },
    {
      "cell_type": "code",
      "execution_count": 5,
      "metadata": {
        "colab": {
          "base_uri": "https://localhost:8080/",
          "height": 37
        },
        "id": "fNZfU8vR20M3",
        "outputId": "69d3c13b-a01f-4a59-9a20-8eacc01f2a80"
      },
      "outputs": [
        {
          "output_type": "execute_result",
          "data": {
            "text/plain": [
              "1"
            ],
            "text/latex": "$\\displaystyle 1$"
          },
          "metadata": {},
          "execution_count": 5
        }
      ],
      "source": [
        "#sinal impulso a partir da Integral\n",
        "d = sp.DiracDelta(t)\n",
        "D = sp.integrate(d*sp.exp(-s*t), (t, -sp.oo, sp.oo))\n",
        "D"
      ]
    },
    {
      "cell_type": "markdown",
      "metadata": {
        "id": "MKc-ssrOEc4Q"
      },
      "source": [
        "Onde `sp.DiracDelta()` é a função impulso unitário representado pela biblioteca `sympy`"
      ]
    },
    {
      "cell_type": "code",
      "execution_count": 6,
      "metadata": {
        "colab": {
          "base_uri": "https://localhost:8080/",
          "height": 39
        },
        "id": "HrMZYL_L54n8",
        "outputId": "292a1cf3-f81b-417d-93d4-e9d0a89b57b2"
      },
      "outputs": [
        {
          "output_type": "execute_result",
          "data": {
            "text/plain": [
              "1 - Heaviside(0)"
            ],
            "text/latex": "$\\displaystyle 1 - \\theta\\left(0\\right)$"
          },
          "metadata": {},
          "execution_count": 6
        }
      ],
      "source": [
        "## sinal impulso unitário com a função sp.laplace_transform\n",
        "D = sp.limit(sp.laplace_transform(d, t, s, noconds=True), t, 0, '-')\n",
        "D"
      ]
    },
    {
      "cell_type": "markdown",
      "metadata": {
        "id": "0UU4QCoQJhrR"
      },
      "source": [
        "Neste caso a função para realizar a transformada é sempre multiplicada pou $u(t)$, ou seja, o intervalo da função será para $t\\geq 0$."
      ]
    },
    {
      "cell_type": "markdown",
      "metadata": {
        "id": "zQgnTgA3f7Z0"
      },
      "source": [
        "Transformada de laplace aplicado á uma rampa $ tu(t)$ :"
      ]
    },
    {
      "cell_type": "code",
      "execution_count": 7,
      "metadata": {
        "colab": {
          "base_uri": "https://localhost:8080/",
          "height": 51
        },
        "id": "v3cDDwneAVmi",
        "outputId": "86e8de68-c036-42c0-906e-c64e6c6093fa"
      },
      "outputs": [
        {
          "output_type": "execute_result",
          "data": {
            "text/plain": [
              "s**(-2)"
            ],
            "text/latex": "$\\displaystyle \\frac{1}{s^{2}}$"
          },
          "metadata": {},
          "execution_count": 7
        }
      ],
      "source": [
        "R = sp.laplace_transform(t, t, s, noconds = True)\n",
        "R"
      ]
    },
    {
      "cell_type": "markdown",
      "metadata": {
        "id": "o2vAnBEBgzzO"
      },
      "source": [
        "Transformada de laplace aplicada a uma exponencial $ e^{at}u(t)$:"
      ]
    },
    {
      "cell_type": "code",
      "execution_count": 8,
      "metadata": {
        "id": "Phis0o73g9P_",
        "colab": {
          "base_uri": "https://localhost:8080/",
          "height": 52
        },
        "outputId": "b0e953d7-b035-4153-d34b-a22773e38786"
      },
      "outputs": [
        {
          "output_type": "execute_result",
          "data": {
            "text/plain": [
              "1/(a + s)"
            ],
            "text/latex": "$\\displaystyle \\frac{1}{a + s}$"
          },
          "metadata": {},
          "execution_count": 8
        }
      ],
      "source": [
        "a = sp.symbols('a', constant = True)\n",
        "E = sp.laplace_transform(sp.exp(-a*t), t, s, noconds = True)\n",
        "E"
      ]
    },
    {
      "cell_type": "markdown",
      "metadata": {
        "id": "CZ37KLYrh7xq"
      },
      "source": [
        "Como *a* é uma constante qualquer, inicialmente declaramos ela como uma variável a partir da função `sp.symbols()` e logo após definimos uma condição, `constant = True` o que fará com que *a* passe a ser tratada como uma constante.\n",
        "\n",
        "Para se trabalhar com uma exponencial utiliza-se a função `sp.exp()`. Ao se trabalhar com função `sp.laplace_transform()`, em seu argumento você pode adicionar a função diretamente no argumento ou pode inicialmente guarda a função a ser transformada em uma letra e posteriormente declarar a letra dentro do argumento da função. "
      ]
    },
    {
      "cell_type": "markdown",
      "metadata": {
        "id": "y8WC9DL3Apbx"
      },
      "source": [
        "# 3.2 - Transformada inversa de Laplace \n",
        "\n",
        "*   Item da lista\n",
        "*   Item da lista\n",
        "\n",
        "\n",
        "\n",
        "Quando se trabalha com o domínio da função no tempo e aplica a transformada indo para o domínio na frequência, é normal que espere retornar ao domínio em que se estava trabalhando inicialmente. Para realizar esse retorno utiliza-se a *transformada inversa de Laplace*. Seu símbolo é representado por: \n",
        "\n",
        "$$ x(t) = \\mathcal{L}^{-1}\\{X(s)\\} $$\n",
        "\n",
        "Considerando como exemplo 1 a seguinte função:\n",
        "\n",
        " $$ X{\\tiny 1}(s) = \\frac{7s-6}{(s^2-s-6)} $$\n",
        "\n",
        "Para realizar a transformada inversa precisamos realizar o seguintes passos:\n",
        "\n",
        "- Definir $X{\\tiny 1}(s)$ em `sympy`;\n",
        "- Expandir $X{\\tiny 1}(s)$ em frações parciais;\n",
        "- Aplicar a transformada inversa;\n",
        "- Se necessário simplificar a representação da função;"
      ]
    },
    {
      "cell_type": "code",
      "execution_count": 9,
      "metadata": {
        "id": "ngCVW8tSDWW6",
        "colab": {
          "base_uri": "https://localhost:8080/",
          "height": 52
        },
        "outputId": "1d46b86d-c09f-4712-e95b-e3b11bd4f1b8"
      },
      "outputs": [
        {
          "output_type": "execute_result",
          "data": {
            "text/plain": [
              "(7*s - 6)/(s**2 - s - 6)"
            ],
            "text/latex": "$\\displaystyle \\frac{7 s - 6}{s^{2} - s - 6}$"
          },
          "metadata": {},
          "execution_count": 9
        }
      ],
      "source": [
        "#definir a função\n",
        "X1 = (7*s-6)/(s**2-s-6)\n",
        "X1"
      ]
    },
    {
      "cell_type": "markdown",
      "metadata": {
        "id": "WDQEVgv0vOar"
      },
      "source": [
        "Para expandir em frações parciais se faz a utilização da função `sp.apart()`"
      ]
    },
    {
      "cell_type": "code",
      "execution_count": 10,
      "metadata": {
        "id": "w8kOkCAft4q-",
        "colab": {
          "base_uri": "https://localhost:8080/",
          "height": 52
        },
        "outputId": "20395c38-2056-45c1-f815-fc6c3f5cab25"
      },
      "outputs": [
        {
          "output_type": "execute_result",
          "data": {
            "text/plain": [
              "4/(s + 2) + 3/(s - 3)"
            ],
            "text/latex": "$\\displaystyle \\frac{4}{s + 2} + \\frac{3}{s - 3}$"
          },
          "metadata": {},
          "execution_count": 10
        }
      ],
      "source": [
        "#expandir a função em frações parciais\n",
        "X1p = sp.apart(X1, s)\n",
        "X1p"
      ]
    },
    {
      "cell_type": "code",
      "execution_count": 11,
      "metadata": {
        "id": "n5kPmUL7t4gF",
        "colab": {
          "base_uri": "https://localhost:8080/",
          "height": 39
        },
        "outputId": "b6ac69cb-d982-4469-83bc-a4b1792f1102"
      },
      "outputs": [
        {
          "output_type": "execute_result",
          "data": {
            "text/plain": [
              "(3*exp(5*t) + 4)*exp(-2*t)*Heaviside(t)"
            ],
            "text/latex": "$\\displaystyle \\left(3 e^{5 t} + 4\\right) e^{- 2 t} \\theta\\left(t\\right)$"
          },
          "metadata": {},
          "execution_count": 11
        }
      ],
      "source": [
        "# aplicar a trasformada inversa\n",
        "x1 = sp.inverse_laplace_transform(X1p, s, t)\n",
        "x1 "
      ]
    },
    {
      "cell_type": "markdown",
      "metadata": {
        "id": "cdteIXX_2uvN"
      },
      "source": [
        "As vezes o programa pode te retornar à função já simplificada, mas ela não se encontra em um formato desejável, como é o caso do exemplo 2. Para esta situação, uma forma de resolver este problema é utilizar a função `sp.expand()` para exapandir a expressão e posteriormente fazer uso da função `sp.collect()` para colocar um termo em evidência."
      ]
    },
    {
      "cell_type": "code",
      "execution_count": 12,
      "metadata": {
        "id": "dYQ05Uon2Rn_",
        "colab": {
          "base_uri": "https://localhost:8080/",
          "height": 39
        },
        "outputId": "f65b5d6d-8212-4b1b-9c30-792f87e63f61"
      },
      "outputs": [
        {
          "output_type": "execute_result",
          "data": {
            "text/plain": [
              "3*exp(3*t)*Heaviside(t) + 4*exp(-2*t)*Heaviside(t)"
            ],
            "text/latex": "$\\displaystyle 3 e^{3 t} \\theta\\left(t\\right) + 4 e^{- 2 t} \\theta\\left(t\\right)$"
          },
          "metadata": {},
          "execution_count": 12
        }
      ],
      "source": [
        "#Simplicar a função\n",
        "x1 = sp.expand(x1)\n",
        "x1"
      ]
    },
    {
      "cell_type": "code",
      "execution_count": 13,
      "metadata": {
        "id": "3JO2F01eiQr1",
        "colab": {
          "base_uri": "https://localhost:8080/",
          "height": 39
        },
        "outputId": "64c8a3d1-dc57-4969-e118-58b9c1f0406e"
      },
      "outputs": [
        {
          "output_type": "execute_result",
          "data": {
            "text/plain": [
              "(3*exp(3*t) + 4*exp(-2*t))*Heaviside(t)"
            ],
            "text/latex": "$\\displaystyle \\left(3 e^{3 t} + 4 e^{- 2 t}\\right) \\theta\\left(t\\right)$"
          },
          "metadata": {},
          "execution_count": 13
        }
      ],
      "source": [
        "#Colocar o degrau em evidência\n",
        "x1 = x1.collect(sp.Heaviside(t))\n",
        "x1"
      ]
    },
    {
      "cell_type": "markdown",
      "metadata": {
        "id": "lvIpdk6urcee"
      },
      "source": [
        "Exemplo 02\n",
        "\n",
        "$$ X{\\tiny 2}(s) = \\frac{2s^2+5}{(s^2-3s-2)} $$"
      ]
    },
    {
      "cell_type": "code",
      "execution_count": 14,
      "metadata": {
        "id": "8gjE0XduKLHf",
        "colab": {
          "base_uri": "https://localhost:8080/",
          "height": 55
        },
        "outputId": "e9721d80-3f1c-48da-e636-f5c12fd42d80"
      },
      "outputs": [
        {
          "output_type": "execute_result",
          "data": {
            "text/plain": [
              "(2*s**2 + 5)/(s**2 - 3*s + 2)"
            ],
            "text/latex": "$\\displaystyle \\frac{2 s^{2} + 5}{s^{2} - 3 s + 2}$"
          },
          "metadata": {},
          "execution_count": 14
        }
      ],
      "source": [
        "#Definir a função\n",
        "X2 = (2*s**2+5)/(s**2-3*s+2)\n",
        "X2"
      ]
    },
    {
      "cell_type": "code",
      "execution_count": 15,
      "metadata": {
        "id": "qjJplIDLuHu2",
        "colab": {
          "base_uri": "https://localhost:8080/",
          "height": 52
        },
        "outputId": "9f5b39d4-fa4a-45c2-a670-51a5b3829f40"
      },
      "outputs": [
        {
          "output_type": "execute_result",
          "data": {
            "text/plain": [
              "2 - 7/(s - 1) + 13/(s - 2)"
            ],
            "text/latex": "$\\displaystyle 2 - \\frac{7}{s - 1} + \\frac{13}{s - 2}$"
          },
          "metadata": {},
          "execution_count": 15
        }
      ],
      "source": [
        "#Expandir a função em frações parciais\n",
        "X2p = sp.apart(X2, s)\n",
        "X2p"
      ]
    },
    {
      "cell_type": "code",
      "execution_count": 16,
      "metadata": {
        "id": "RYpbSvX-un_h",
        "colab": {
          "base_uri": "https://localhost:8080/",
          "height": 39
        },
        "outputId": "ad8b3bf3-9848-4168-d2c4-68f8a32c248a"
      },
      "outputs": [
        {
          "output_type": "execute_result",
          "data": {
            "text/plain": [
              "13*exp(2*t)*Heaviside(t) - 7*exp(t)*Heaviside(t) + 2*DiracDelta(t)"
            ],
            "text/latex": "$\\displaystyle 13 e^{2 t} \\theta\\left(t\\right) - 7 e^{t} \\theta\\left(t\\right) + 2 \\delta\\left(t\\right)$"
          },
          "metadata": {},
          "execution_count": 16
        }
      ],
      "source": [
        "## aplicar a trasformada inversa\n",
        "x2 = sp.inverse_laplace_transform(X2p, s, t)\n",
        "x2"
      ]
    },
    {
      "cell_type": "code",
      "execution_count": 17,
      "metadata": {
        "id": "30HMWw1juHlf",
        "colab": {
          "base_uri": "https://localhost:8080/",
          "height": 39
        },
        "outputId": "4a994c51-09e2-4359-ae71-e9b393771409"
      },
      "outputs": [
        {
          "output_type": "execute_result",
          "data": {
            "text/plain": [
              "(13*exp(2*t) - 7*exp(t))*Heaviside(t) + 2*DiracDelta(t)"
            ],
            "text/latex": "$\\displaystyle \\left(13 e^{2 t} - 7 e^{t}\\right) \\theta\\left(t\\right) + 2 \\delta\\left(t\\right)$"
          },
          "metadata": {},
          "execution_count": 17
        }
      ],
      "source": [
        "# Simplificar a função\n",
        "x2 = x2.collect(sp.Heaviside(t))\n",
        "x2"
      ]
    },
    {
      "cell_type": "markdown",
      "metadata": {
        "id": "yT1-lgoLrlex"
      },
      "source": [
        "Exemplo 3:\n",
        "\n",
        "$$ X{\\tiny 4}(s) = \\frac{8s+10}{(s+1)(s+2)^3} $$"
      ]
    },
    {
      "cell_type": "code",
      "execution_count": 30,
      "metadata": {
        "id": "RRIxbP39KOge",
        "colab": {
          "base_uri": "https://localhost:8080/",
          "height": 58
        },
        "outputId": "4fc06e40-ccba-44b8-8346-3edfd21786ec"
      },
      "outputs": [
        {
          "output_type": "execute_result",
          "data": {
            "text/plain": [
              "(8*s + 10)/((s + 1)*(s + 2)**3)"
            ],
            "text/latex": "$\\displaystyle \\frac{8 s + 10}{\\left(s + 1\\right) \\left(s + 2\\right)^{3}}$"
          },
          "metadata": {},
          "execution_count": 30
        }
      ],
      "source": [
        "#definir a função\n",
        "X3 = (8*s+10)/((s+1)*(s+2)**3)\n",
        "X3"
      ]
    },
    {
      "cell_type": "code",
      "execution_count": 31,
      "metadata": {
        "id": "b9r59kmytVTn",
        "colab": {
          "base_uri": "https://localhost:8080/",
          "height": 58
        },
        "outputId": "7954bfc3-3b38-4efc-94e4-672f70430efd"
      },
      "outputs": [
        {
          "output_type": "execute_result",
          "data": {
            "text/plain": [
              "-2/(s + 2) - 2/(s + 2)**2 + 6/(s + 2)**3 + 2/(s + 1)"
            ],
            "text/latex": "$\\displaystyle - \\frac{2}{s + 2} - \\frac{2}{\\left(s + 2\\right)^{2}} + \\frac{6}{\\left(s + 2\\right)^{3}} + \\frac{2}{s + 1}$"
          },
          "metadata": {},
          "execution_count": 31
        }
      ],
      "source": [
        "##expandir a função em frações parciais\n",
        "X3p = sp.apart(X3, s)\n",
        "X3p"
      ]
    },
    {
      "cell_type": "code",
      "execution_count": 32,
      "metadata": {
        "id": "1Aaf8TNCa-fB",
        "colab": {
          "base_uri": "https://localhost:8080/",
          "height": 39
        },
        "outputId": "846b4494-589e-474f-9d47-ecb794048b20"
      },
      "outputs": [
        {
          "output_type": "execute_result",
          "data": {
            "text/plain": [
              "(3*t**2 - 2*t + 2*exp(t) - 2)*exp(-2*t)*Heaviside(t)"
            ],
            "text/latex": "$\\displaystyle \\left(3 t^{2} - 2 t + 2 e^{t} - 2\\right) e^{- 2 t} \\theta\\left(t\\right)$"
          },
          "metadata": {},
          "execution_count": 32
        }
      ],
      "source": [
        "## aplicar a trasformada inversa\n",
        "x3 = sp.inverse_laplace_transform(X3p, s, t)\n",
        "x3"
      ]
    },
    {
      "cell_type": "code",
      "execution_count": 33,
      "metadata": {
        "id": "Np22BsvwfJFy",
        "colab": {
          "base_uri": "https://localhost:8080/",
          "height": 39
        },
        "outputId": "70028c3a-3655-453c-d9ba-8d7f25324e53"
      },
      "outputs": [
        {
          "output_type": "execute_result",
          "data": {
            "text/plain": [
              "3*t**2*exp(-2*t)*Heaviside(t) - 2*t*exp(-2*t)*Heaviside(t) + 2*exp(-t)*Heaviside(t) - 2*exp(-2*t)*Heaviside(t)"
            ],
            "text/latex": "$\\displaystyle 3 t^{2} e^{- 2 t} \\theta\\left(t\\right) - 2 t e^{- 2 t} \\theta\\left(t\\right) + 2 e^{- t} \\theta\\left(t\\right) - 2 e^{- 2 t} \\theta\\left(t\\right)$"
          },
          "metadata": {},
          "execution_count": 33
        }
      ],
      "source": [
        "#Expandir a função\n",
        "x3 = sp.expand(x3)\n",
        "x3"
      ]
    },
    {
      "cell_type": "code",
      "execution_count": 34,
      "metadata": {
        "id": "Uhn9tE66hfLH",
        "colab": {
          "base_uri": "https://localhost:8080/",
          "height": 39
        },
        "outputId": "136d1909-d7ef-4ead-9f32-eb2d2b59cbdb"
      },
      "outputs": [
        {
          "output_type": "execute_result",
          "data": {
            "text/plain": [
              "(3*t**2*exp(-2*t) - 2*t*exp(-2*t) + 2*exp(-t) - 2*exp(-2*t))*Heaviside(t)"
            ],
            "text/latex": "$\\displaystyle \\left(3 t^{2} e^{- 2 t} - 2 t e^{- 2 t} + 2 e^{- t} - 2 e^{- 2 t}\\right) \\theta\\left(t\\right)$"
          },
          "metadata": {},
          "execution_count": 34
        }
      ],
      "source": [
        "#Colocar o vetor unitario em evidência \n",
        "x3 = sp.collect(x3, sp.Heaviside(t))\n",
        "x3"
      ]
    },
    {
      "cell_type": "markdown",
      "metadata": {
        "id": "tSLvW0nl2l79"
      },
      "source": [
        "# 3.3 - Deslocamento no tempo\n",
        "\n",
        "# **Exemplo 1:** \n",
        "Cálcule a tranformada de Laplace da seguinte equação:\n",
        "\n",
        "$$ x(t)= (t-1)u(t-1)-(t-2)*u(t-2)-u(t-4)]$$\n",
        "\n"
      ]
    },
    {
      "cell_type": "code",
      "execution_count": null,
      "metadata": {
        "colab": {
          "base_uri": "https://localhost:8080/",
          "height": 38
        },
        "id": "_0pQexXh4zZA",
        "outputId": "8b6a9f8c-09ad-44aa-d694-12e5e584ca02"
      },
      "outputs": [
        {
          "data": {
            "text/latex": "$\\displaystyle - \\left(t - 2\\right) \\theta\\left(t - 2\\right) + \\left(t - 1\\right) \\theta\\left(t - 1\\right) - \\theta\\left(t - 4\\right)$",
            "text/plain": [
              "-(t - 2)*Heaviside(t - 2) + (t - 1)*Heaviside(t - 1) - Heaviside(t - 4)"
            ]
          },
          "execution_count": 4,
          "metadata": {},
          "output_type": "execute_result"
        }
      ],
      "source": [
        "x = (t-1)*sp.Heaviside(t-1)-(t-2)*sp.Heaviside(t-2)-sp.Heaviside(t-4)\n",
        "x"
      ]
    },
    {
      "cell_type": "code",
      "execution_count": null,
      "metadata": {
        "colab": {
          "base_uri": "https://localhost:8080/",
          "height": 56
        },
        "id": "UnZWwmt65H14",
        "outputId": "3f86da72-51f9-4518-d80e-ecae27c2a290"
      },
      "outputs": [
        {
          "data": {
            "text/latex": "$\\displaystyle \\frac{\\left(- s + e^{3 s} - e^{2 s}\\right) e^{- 4 s}}{s^{2}}$",
            "text/plain": [
              "(-s + exp(3*s) - exp(2*s))*exp(-4*s)/s**2"
            ]
          },
          "execution_count": 5,
          "metadata": {},
          "output_type": "execute_result"
        }
      ],
      "source": [
        "X= sp.laplace_transform(x, t, s, noconds = True)\n",
        "X"
      ]
    },
    {
      "cell_type": "code",
      "execution_count": null,
      "metadata": {
        "colab": {
          "base_uri": "https://localhost:8080/",
          "height": 54
        },
        "id": "eUzTW4kH7oCj",
        "outputId": "e49e5dd1-00d6-4a95-85a9-b05987b2cfd4"
      },
      "outputs": [
        {
          "data": {
            "text/latex": "$\\displaystyle - \\frac{e^{- 4 s}}{s} + \\frac{e^{- s}}{s^{2}} - \\frac{e^{- 2 s}}{s^{2}}$",
            "text/plain": [
              "-exp(-4*s)/s + exp(-s)/s**2 - exp(-2*s)/s**2"
            ]
          },
          "execution_count": 6,
          "metadata": {},
          "output_type": "execute_result"
        }
      ],
      "source": [
        "X = X.expand()\n",
        "X"
      ]
    },
    {
      "cell_type": "markdown",
      "metadata": {
        "id": "xFGSgLgw53g_"
      },
      "source": [
        "# 3.4 - Deslocamento na frequência \n",
        "\n",
        "# **Exemplo 1:**\n",
        "  Aplique a transformada inversa no seguinte sinal:\n",
        "\n",
        "  $$ X(s)= \\frac{s+3+5e^{-2s}}{(s+1)(s+2)}$$"
      ]
    },
    {
      "cell_type": "code",
      "execution_count": 35,
      "metadata": {
        "colab": {
          "base_uri": "https://localhost:8080/",
          "height": 58
        },
        "id": "3-uIe5TS73FR",
        "outputId": "73aae455-9c8e-423a-f933-4f365a8805f4"
      },
      "outputs": [
        {
          "output_type": "execute_result",
          "data": {
            "text/plain": [
              "(s + 3 + 5*exp(-2*s))/((s + 1)*(s + 2))"
            ],
            "text/latex": "$\\displaystyle \\frac{s + 3 + 5 e^{- 2 s}}{\\left(s + 1\\right) \\left(s + 2\\right)}$"
          },
          "metadata": {},
          "execution_count": 35
        }
      ],
      "source": [
        "X = ((s+3+5*sp.exp(-2*s)))/((s+1)*(s+2))\n",
        "X"
      ]
    },
    {
      "cell_type": "code",
      "execution_count": 36,
      "metadata": {
        "colab": {
          "base_uri": "https://localhost:8080/",
          "height": 52
        },
        "id": "Did08K10Bnwy",
        "outputId": "4332ba3f-1a1b-40d4-f74b-15bc3f87fede"
      },
      "outputs": [
        {
          "output_type": "execute_result",
          "data": {
            "text/plain": [
              "s/(s**2 + 3*s + 2) + 5/(s**2*exp(2*s) + 3*s*exp(2*s) + 2*exp(2*s)) + 3/(s**2 + 3*s + 2)"
            ],
            "text/latex": "$\\displaystyle \\frac{s}{s^{2} + 3 s + 2} + \\frac{5}{s^{2} e^{2 s} + 3 s e^{2 s} + 2 e^{2 s}} + \\frac{3}{s^{2} + 3 s + 2}$"
          },
          "metadata": {},
          "execution_count": 36
        }
      ],
      "source": [
        "X = X.expand()\n",
        "X"
      ]
    },
    {
      "cell_type": "code",
      "execution_count": 37,
      "metadata": {
        "colab": {
          "base_uri": "https://localhost:8080/",
          "height": 39
        },
        "id": "hM4PVgbu72uS",
        "outputId": "6023e00d-0c8d-47dd-8948-3340f6015334"
      },
      "outputs": [
        {
          "output_type": "execute_result",
          "data": {
            "text/plain": [
              "((2*exp(t) - 1)*Heaviside(t) - 5*(exp(4 - t) - exp(2))*exp(t)*Heaviside(t - 2))*exp(-2*t)"
            ],
            "text/latex": "$\\displaystyle \\left(\\left(2 e^{t} - 1\\right) \\theta\\left(t\\right) - 5 \\left(e^{4 - t} - e^{2}\\right) e^{t} \\theta\\left(t - 2\\right)\\right) e^{- 2 t}$"
          },
          "metadata": {},
          "execution_count": 37
        }
      ],
      "source": [
        "x = sp.inverse_laplace_transform(X, s, t)\n",
        "x"
      ]
    },
    {
      "cell_type": "code",
      "execution_count": 38,
      "metadata": {
        "colab": {
          "base_uri": "https://localhost:8080/",
          "height": 39
        },
        "id": "d8X4JWDcCpJi",
        "outputId": "c2bf3640-d59e-4971-c91a-0dc3984dba41"
      },
      "outputs": [
        {
          "output_type": "execute_result",
          "data": {
            "text/plain": [
              "2*exp(-t)*Heaviside(t) + 5*exp(2)*exp(-t)*Heaviside(t - 2) - exp(-2*t)*Heaviside(t) - 5*exp(4)*exp(-2*t)*Heaviside(t - 2)"
            ],
            "text/latex": "$\\displaystyle 2 e^{- t} \\theta\\left(t\\right) + 5 e^{2} e^{- t} \\theta\\left(t - 2\\right) - e^{- 2 t} \\theta\\left(t\\right) - 5 e^{4} e^{- 2 t} \\theta\\left(t - 2\\right)$"
          },
          "metadata": {},
          "execution_count": 38
        }
      ],
      "source": [
        "x = x.expand()\n",
        "x"
      ]
    },
    {
      "cell_type": "code",
      "execution_count": 39,
      "metadata": {
        "id": "m9EqYlbn9z9P",
        "colab": {
          "base_uri": "https://localhost:8080/",
          "height": 39
        },
        "outputId": "37391a8a-19c6-4b43-8cc2-c6a057d32cec"
      },
      "outputs": [
        {
          "output_type": "execute_result",
          "data": {
            "text/plain": [
              "(2*exp(-t) - exp(-2*t))*Heaviside(t) + 5*exp(2)*exp(-t)*Heaviside(t - 2) - 5*exp(4)*exp(-2*t)*Heaviside(t - 2)"
            ],
            "text/latex": "$\\displaystyle \\left(2 e^{- t} - e^{- 2 t}\\right) \\theta\\left(t\\right) + 5 e^{2} e^{- t} \\theta\\left(t - 2\\right) - 5 e^{4} e^{- 2 t} \\theta\\left(t - 2\\right)$"
          },
          "metadata": {},
          "execution_count": 39
        }
      ],
      "source": [
        "x = x.collect(sp.Heaviside(t))\n",
        "x"
      ]
    },
    {
      "cell_type": "code",
      "execution_count": 40,
      "metadata": {
        "colab": {
          "base_uri": "https://localhost:8080/",
          "height": 39
        },
        "id": "M64SfR_oDVnQ",
        "outputId": "fc3779bd-95f5-452c-a029-c0169348db52"
      },
      "outputs": [
        {
          "output_type": "execute_result",
          "data": {
            "text/plain": [
              "(5*exp(2)*exp(-t) - 5*exp(4)*exp(-2*t))*Heaviside(t - 2) + (2*exp(-t) - exp(-2*t))*Heaviside(t)"
            ],
            "text/latex": "$\\displaystyle \\left(5 e^{2} e^{- t} - 5 e^{4} e^{- 2 t}\\right) \\theta\\left(t - 2\\right) + \\left(2 e^{- t} - e^{- 2 t}\\right) \\theta\\left(t\\right)$"
          },
          "metadata": {},
          "execution_count": 40
        }
      ],
      "source": [
        "x = x.collect(sp.Heaviside(t-2))\n",
        "x"
      ]
    }
  ],
  "metadata": {
    "colab": {
      "provenance": [],
      "authorship_tag": "ABX9TyOMkmIz69sLjvDtLjkGtcBD",
      "include_colab_link": true
    },
    "kernelspec": {
      "display_name": "Python 3",
      "name": "python3"
    },
    "language_info": {
      "name": "python"
    }
  },
  "nbformat": 4,
  "nbformat_minor": 0
}